{
 "cells": [
  {
   "cell_type": "markdown",
   "metadata": {},
   "source": [
    "# Atmospheric Data Analysis Suite"
   ]
  },
  {
   "cell_type": "code",
   "execution_count": 152,
   "metadata": {
    "collapsed": false
   },
   "outputs": [],
   "source": [
    "# IMPORTS\n",
    "%matplotlib inline\n",
    "import numpy as np\n",
    "from IPython.display import display\n",
    "from ipywidgets import widgets\n",
    "from IPython.html.widgets import *\n",
    "from IPython.display import display\n",
    "import ipywidgets as widgets\n",
    "from ipywidgets import *\n",
    "import numpy as np\n",
    "from datetime import datetime\n",
    "import pandas as pd\n",
    "import matplotlib.pyplot as plt\n",
    "from matplotlib.ticker import ScalarFormatter, FormatStrFormatter\n",
    "import seaborn as sns\n",
    "sns.set_context(\"poster\")\n",
    "import numpy as np\n",
    "import pprint as pp\n",
    "import scipy.stats as stats"
   ]
  },
  {
   "cell_type": "code",
   "execution_count": 153,
   "metadata": {
    "collapsed": true
   },
   "outputs": [],
   "source": [
    "# HELPER FUNCTIONS\n",
    "def clean_string(s):\n",
    "    return s.replace(\" \", \"\")\n"
   ]
  },
  {
   "cell_type": "markdown",
   "metadata": {},
   "source": [
    "### SELECT DATAFRAMES\n",
    "\n",
    "If the csv file with your data is not in this folder, please include the path to the correct folder. \n",
    "'/Doucments/data/mydata.csv'\n"
   ]
  },
  {
   "cell_type": "code",
   "execution_count": 154,
   "metadata": {
    "collapsed": false
   },
   "outputs": [
    {
     "name": "stdout",
     "output_type": "stream",
     "text": [
      "['data/CR1000_test1.csv', 'data/Kwadela2014-winter.csv', 'data/CR1000_test2.csv', 'data/Kwadela2013-winter.csv', 'data/CRDateTest2.csv']\n"
     ]
    }
   ],
   "source": [
    "df_dict = {}\n",
    "datasets = []\n",
    "for filename  in os.listdir('data'): \n",
    "    if \".csv\" in filename: \n",
    "        datasets.append('data/' + filename)\n",
    "\n",
    "print(datasets)"
   ]
  },
  {
   "cell_type": "code",
   "execution_count": 155,
   "metadata": {
    "collapsed": false
   },
   "outputs": [],
   "source": [
    "df1Filename = widgets.Dropdown(\n",
    "    options= datasets,\n",
    "    description='.CSV File: ',\n",
    "    value= 'data/Kwadela2013-winter.csv',\n",
    ")\n",
    "df1Filename"
   ]
  },
  {
   "cell_type": "code",
   "execution_count": 156,
   "metadata": {
    "collapsed": false
   },
   "outputs": [],
   "source": [
    "df2Filename = widgets.Dropdown(\n",
    "    options= datasets,\n",
    "    description='.CSV File: ',\n",
    "    value= 'data/Kwadela2014-winter.csv',\n",
    ")\n",
    "df2Filename"
   ]
  },
  {
   "cell_type": "code",
   "execution_count": 157,
   "metadata": {
    "collapsed": false
   },
   "outputs": [],
   "source": [
    "dataframe1 = pd.read_csv(df1Filename.value)\n",
    "dataframe2 = pd.read_csv(df2Filename.value)\n",
    "df_merged = pd.concat([dataframe1,dataframe2])\n"
   ]
  },
  {
   "cell_type": "code",
   "execution_count": 158,
   "metadata": {
    "collapsed": false
   },
   "outputs": [],
   "source": [
    "dataframe1_name = widgets.Text(\n",
    "    description='Dataframe 1 name:',\n",
    "    value= 'Dataframe1',\n",
    ")\n",
    "\n",
    "dataframe1_name"
   ]
  },
  {
   "cell_type": "code",
   "execution_count": 159,
   "metadata": {
    "collapsed": true
   },
   "outputs": [],
   "source": [
    "dataframe2_name = widgets.Text(\n",
    "    description='Dataframe 2 name:',\n",
    "    value= 'Dataframe2',\n",
    ")\n",
    "dataframe2_name"
   ]
  },
  {
   "cell_type": "markdown",
   "metadata": {},
   "source": [
    "### SELECT FEATURES\n",
    "Choose the columns from dataframe 1 that you would like to analyze.\n",
    "Check boxes to the right of the column you wish to select."
   ]
  },
  {
   "cell_type": "code",
   "execution_count": 160,
   "metadata": {
    "collapsed": true
   },
   "outputs": [],
   "source": [
    "default_select = ['Date', 'Hour', 'Minute', 'Second', 'Year', 'Dusttraks_(mg/m3)','PM10_(ug/m3)','PM2.5_(ug/m3)','SO2_(ppb)',\n",
    "              'CO_(ppm)','NO_(ppb)','NO2_(ppb)','Hour', 'Minute','Day','Month',\n",
    "              'Year','Temperature_(degC)','Wind_Speed_(m/s)']\n",
    "kitchen_list = [column for column in dataframe1 if '-K' in column] #KwaDela"
   ]
  },
  {
   "cell_type": "code",
   "execution_count": 161,
   "metadata": {
    "collapsed": false
   },
   "outputs": [],
   "source": [
    "cb_cont = widgets.HBox(width='100%')\n",
    "cb_cont.overflow_x = 'scroll'\n",
    "checkboxes = []\n",
    "for column in dataframe1:\n",
    "    if column in dataframe2:\n",
    "        if column in default_select:\n",
    "            checkboxes.append(\\\n",
    "                 widgets.Checkbox(description = clean_string('%s') %(column), \\\n",
    "                             value=True, width=50))\n",
    "        elif column in kitchen_list: #To be removed: KwaDela specific\n",
    "            checkboxes.append(\\\n",
    "                 widgets.Checkbox(description = clean_string('%s') %(column), \\\n",
    "                             value=True, width=50))\n",
    "        else:\n",
    "            checkboxes.append(\\\n",
    "                 widgets.Checkbox(description = clean_string('%s') %(column), \\\n",
    "                             value=False, width=50))\n",
    "cb_cont.children=[i for i in checkboxes]\n",
    "display(cb_cont)\n",
    "\n",
    "\n"
   ]
  },
  {
   "cell_type": "code",
   "execution_count": 162,
   "metadata": {
    "collapsed": false
   },
   "outputs": [
    {
     "name": "stdout",
     "output_type": "stream",
     "text": [
      "Date\n",
      "Wind_Speed_(m/s)\n",
      "Temperature_(degC)\n",
      "SO2_(ppb)\n",
      "NO_(ppb)\n",
      "NO2_(ppb)\n",
      "PM10_(ug/m3)\n",
      "PM2.5_(ug/m3)\n",
      "CO_(ppm)\n",
      "H01-K-E\n",
      "H02-K-N\n",
      "H03-K-S\n",
      "H04-K-S\n",
      "H05-K-N\n",
      "H06-K-N\n",
      "H07-K-S\n",
      "H10-K-N\n",
      "Dusttraks_(mg/m3)\n"
     ]
    }
   ],
   "source": [
    "df1_columns = []\n",
    "for checkbox in cb_cont.children:\n",
    "    if checkbox.value:\n",
    "        df1_columns.append(checkbox.description)\n",
    "        print checkbox.description\n",
    "dataframe1 = dataframe1[df1_columns]"
   ]
  },
  {
   "cell_type": "code",
   "execution_count": 163,
   "metadata": {
    "collapsed": false
   },
   "outputs": [],
   "source": [
    "# AUTOMATICALLY SELECTS BOXES THAT APPEAR IN BOTH DATAFRAMES AND WERE CHOSEN FOR DATAFRAME 1.\n",
    "checkboxes = []\n",
    "for column in dataframe2:\n",
    "    if column in df1_columns:\n",
    "        checkboxes.append(\\\n",
    "             widgets.Checkbox(description = clean_string('%s') %(column), \\\n",
    "                         value=True, width=50))\n",
    "    elif column in default_select:\n",
    "        checkboxes.append(\\\n",
    "             widgets.Checkbox(description = clean_string('%s') %(column), \\\n",
    "                         value=True, width=50))\n",
    "    else:\n",
    "        checkboxes.append(\\\n",
    "             widgets.Checkbox(description = clean_string('%s') %(column), \\\n",
    "                         value=False, width=50))\n",
    "cb_cont.children=[i for i in checkboxes]\n",
    "display(cb_cont)\n",
    "\n"
   ]
  },
  {
   "cell_type": "code",
   "execution_count": 164,
   "metadata": {
    "collapsed": false
   },
   "outputs": [
    {
     "name": "stdout",
     "output_type": "stream",
     "text": [
      "Date\n",
      "Hour\n",
      "Minute\n",
      "Second\n",
      "Day\n",
      "Month\n",
      "Year\n",
      "Wind_Speed_(m/s)\n",
      "Temperature_(degC)\n",
      "SO2_(ppb)\n",
      "NO_(ppb)\n",
      "NO2_(ppb)\n",
      "PM10_(ug/m3)\n",
      "PM2.5_(ug/m3)\n",
      "CO_(ppm)\n",
      "H01-K-E\n",
      "H02-K-N\n",
      "H03-K-S\n",
      "H04-K-S\n",
      "H05-K-N\n",
      "H06-K-N\n",
      "H07-K-S\n",
      "H10-K-N\n",
      "Dusttraks_(mg/m3)\n"
     ]
    }
   ],
   "source": [
    "df2_columns = []\n",
    "for checkbox in cb_cont.children:\n",
    "    if checkbox.value:\n",
    "        df2_columns.append(checkbox.description)\n",
    "        print checkbox.description\n",
    "        \n",
    "dataframe2 = dataframe2[df2_columns]"
   ]
  },
  {
   "cell_type": "markdown",
   "metadata": {},
   "source": [
    "### DATAFRAME 1"
   ]
  },
  {
   "cell_type": "code",
   "execution_count": 165,
   "metadata": {
    "collapsed": false
   },
   "outputs": [
    {
     "data": {
      "text/html": [
       "<div>\n",
       "<table border=\"1\" class=\"dataframe\">\n",
       "  <thead>\n",
       "    <tr style=\"text-align: right;\">\n",
       "      <th></th>\n",
       "      <th>Date</th>\n",
       "      <th>Wind_Speed_(m/s)</th>\n",
       "      <th>Temperature_(degC)</th>\n",
       "      <th>SO2_(ppb)</th>\n",
       "      <th>NO_(ppb)</th>\n",
       "      <th>NO2_(ppb)</th>\n",
       "      <th>PM10_(ug/m3)</th>\n",
       "      <th>PM2.5_(ug/m3)</th>\n",
       "      <th>CO_(ppm)</th>\n",
       "      <th>H01-K-E</th>\n",
       "      <th>H02-K-N</th>\n",
       "      <th>H03-K-S</th>\n",
       "      <th>H04-K-S</th>\n",
       "      <th>H05-K-N</th>\n",
       "      <th>H06-K-N</th>\n",
       "      <th>H07-K-S</th>\n",
       "      <th>H10-K-N</th>\n",
       "      <th>Dusttraks_(mg/m3)</th>\n",
       "    </tr>\n",
       "  </thead>\n",
       "  <tbody>\n",
       "    <tr>\n",
       "      <th>0</th>\n",
       "      <td>7/2/13 12:00</td>\n",
       "      <td>NaN</td>\n",
       "      <td>NaN</td>\n",
       "      <td>NaN</td>\n",
       "      <td>NaN</td>\n",
       "      <td>NaN</td>\n",
       "      <td>NaN</td>\n",
       "      <td>NaN</td>\n",
       "      <td>NaN</td>\n",
       "      <td>NaN</td>\n",
       "      <td>NaN</td>\n",
       "      <td>NaN</td>\n",
       "      <td>NaN</td>\n",
       "      <td>NaN</td>\n",
       "      <td>NaN</td>\n",
       "      <td>NaN</td>\n",
       "      <td>NaN</td>\n",
       "      <td>NaN</td>\n",
       "    </tr>\n",
       "    <tr>\n",
       "      <th>1</th>\n",
       "      <td>7/2/13 12:01</td>\n",
       "      <td>NaN</td>\n",
       "      <td>NaN</td>\n",
       "      <td>NaN</td>\n",
       "      <td>NaN</td>\n",
       "      <td>NaN</td>\n",
       "      <td>NaN</td>\n",
       "      <td>NaN</td>\n",
       "      <td>NaN</td>\n",
       "      <td>NaN</td>\n",
       "      <td>NaN</td>\n",
       "      <td>NaN</td>\n",
       "      <td>NaN</td>\n",
       "      <td>NaN</td>\n",
       "      <td>NaN</td>\n",
       "      <td>NaN</td>\n",
       "      <td>NaN</td>\n",
       "      <td>NaN</td>\n",
       "    </tr>\n",
       "    <tr>\n",
       "      <th>2</th>\n",
       "      <td>7/2/13 12:02</td>\n",
       "      <td>NaN</td>\n",
       "      <td>NaN</td>\n",
       "      <td>NaN</td>\n",
       "      <td>NaN</td>\n",
       "      <td>NaN</td>\n",
       "      <td>NaN</td>\n",
       "      <td>NaN</td>\n",
       "      <td>NaN</td>\n",
       "      <td>NaN</td>\n",
       "      <td>NaN</td>\n",
       "      <td>NaN</td>\n",
       "      <td>NaN</td>\n",
       "      <td>NaN</td>\n",
       "      <td>NaN</td>\n",
       "      <td>NaN</td>\n",
       "      <td>NaN</td>\n",
       "      <td>NaN</td>\n",
       "    </tr>\n",
       "    <tr>\n",
       "      <th>3</th>\n",
       "      <td>7/2/13 12:03</td>\n",
       "      <td>NaN</td>\n",
       "      <td>NaN</td>\n",
       "      <td>NaN</td>\n",
       "      <td>NaN</td>\n",
       "      <td>NaN</td>\n",
       "      <td>NaN</td>\n",
       "      <td>NaN</td>\n",
       "      <td>NaN</td>\n",
       "      <td>NaN</td>\n",
       "      <td>NaN</td>\n",
       "      <td>NaN</td>\n",
       "      <td>NaN</td>\n",
       "      <td>NaN</td>\n",
       "      <td>NaN</td>\n",
       "      <td>NaN</td>\n",
       "      <td>NaN</td>\n",
       "      <td>NaN</td>\n",
       "    </tr>\n",
       "    <tr>\n",
       "      <th>4</th>\n",
       "      <td>7/2/13 12:04</td>\n",
       "      <td>NaN</td>\n",
       "      <td>NaN</td>\n",
       "      <td>NaN</td>\n",
       "      <td>NaN</td>\n",
       "      <td>NaN</td>\n",
       "      <td>NaN</td>\n",
       "      <td>NaN</td>\n",
       "      <td>NaN</td>\n",
       "      <td>NaN</td>\n",
       "      <td>NaN</td>\n",
       "      <td>NaN</td>\n",
       "      <td>NaN</td>\n",
       "      <td>NaN</td>\n",
       "      <td>NaN</td>\n",
       "      <td>NaN</td>\n",
       "      <td>NaN</td>\n",
       "      <td>NaN</td>\n",
       "    </tr>\n",
       "  </tbody>\n",
       "</table>\n",
       "</div>"
      ],
      "text/plain": [
       "           Date  Wind_Speed_(m/s)  Temperature_(degC)  SO2_(ppb)  NO_(ppb)  \\\n",
       "0  7/2/13 12:00               NaN                 NaN        NaN       NaN   \n",
       "1  7/2/13 12:01               NaN                 NaN        NaN       NaN   \n",
       "2  7/2/13 12:02               NaN                 NaN        NaN       NaN   \n",
       "3  7/2/13 12:03               NaN                 NaN        NaN       NaN   \n",
       "4  7/2/13 12:04               NaN                 NaN        NaN       NaN   \n",
       "\n",
       "   NO2_(ppb)  PM10_(ug/m3)  PM2.5_(ug/m3)  CO_(ppm)  H01-K-E  H02-K-N  \\\n",
       "0        NaN           NaN            NaN       NaN      NaN      NaN   \n",
       "1        NaN           NaN            NaN       NaN      NaN      NaN   \n",
       "2        NaN           NaN            NaN       NaN      NaN      NaN   \n",
       "3        NaN           NaN            NaN       NaN      NaN      NaN   \n",
       "4        NaN           NaN            NaN       NaN      NaN      NaN   \n",
       "\n",
       "   H03-K-S  H04-K-S  H05-K-N  H06-K-N  H07-K-S  H10-K-N  Dusttraks_(mg/m3)  \n",
       "0      NaN      NaN      NaN      NaN      NaN      NaN                NaN  \n",
       "1      NaN      NaN      NaN      NaN      NaN      NaN                NaN  \n",
       "2      NaN      NaN      NaN      NaN      NaN      NaN                NaN  \n",
       "3      NaN      NaN      NaN      NaN      NaN      NaN                NaN  \n",
       "4      NaN      NaN      NaN      NaN      NaN      NaN                NaN  "
      ]
     },
     "execution_count": 165,
     "metadata": {},
     "output_type": "execute_result"
    }
   ],
   "source": [
    "dataframe1.head()"
   ]
  },
  {
   "cell_type": "markdown",
   "metadata": {},
   "source": [
    "### DATAFRAME 2"
   ]
  },
  {
   "cell_type": "code",
   "execution_count": 166,
   "metadata": {
    "collapsed": false
   },
   "outputs": [
    {
     "data": {
      "text/html": [
       "<div>\n",
       "<table border=\"1\" class=\"dataframe\">\n",
       "  <thead>\n",
       "    <tr style=\"text-align: right;\">\n",
       "      <th></th>\n",
       "      <th>Date</th>\n",
       "      <th>Hour</th>\n",
       "      <th>Minute</th>\n",
       "      <th>Second</th>\n",
       "      <th>Day</th>\n",
       "      <th>Month</th>\n",
       "      <th>Year</th>\n",
       "      <th>Wind_Speed_(m/s)</th>\n",
       "      <th>Temperature_(degC)</th>\n",
       "      <th>SO2_(ppb)</th>\n",
       "      <th>...</th>\n",
       "      <th>CO_(ppm)</th>\n",
       "      <th>H01-K-E</th>\n",
       "      <th>H02-K-N</th>\n",
       "      <th>H03-K-S</th>\n",
       "      <th>H04-K-S</th>\n",
       "      <th>H05-K-N</th>\n",
       "      <th>H06-K-N</th>\n",
       "      <th>H07-K-S</th>\n",
       "      <th>H10-K-N</th>\n",
       "      <th>Dusttraks_(mg/m3)</th>\n",
       "    </tr>\n",
       "  </thead>\n",
       "  <tbody>\n",
       "    <tr>\n",
       "      <th>0</th>\n",
       "      <td>7/11/14 12:00</td>\n",
       "      <td>12</td>\n",
       "      <td>0</td>\n",
       "      <td>0</td>\n",
       "      <td>11</td>\n",
       "      <td>7</td>\n",
       "      <td>2014</td>\n",
       "      <td>4.458</td>\n",
       "      <td>11.910</td>\n",
       "      <td>NaN</td>\n",
       "      <td>...</td>\n",
       "      <td>0.193</td>\n",
       "      <td>22.3</td>\n",
       "      <td>15.4</td>\n",
       "      <td>13.1</td>\n",
       "      <td>13.8</td>\n",
       "      <td>15.4</td>\n",
       "      <td>11.7</td>\n",
       "      <td>15.3</td>\n",
       "      <td>17.1</td>\n",
       "      <td>0.043</td>\n",
       "    </tr>\n",
       "    <tr>\n",
       "      <th>1</th>\n",
       "      <td>7/11/14 12:01</td>\n",
       "      <td>12</td>\n",
       "      <td>1</td>\n",
       "      <td>0</td>\n",
       "      <td>11</td>\n",
       "      <td>7</td>\n",
       "      <td>2014</td>\n",
       "      <td>4.887</td>\n",
       "      <td>11.944</td>\n",
       "      <td>NaN</td>\n",
       "      <td>...</td>\n",
       "      <td>0.163</td>\n",
       "      <td>22.9</td>\n",
       "      <td>15.3</td>\n",
       "      <td>13.1</td>\n",
       "      <td>13.8</td>\n",
       "      <td>15.4</td>\n",
       "      <td>11.7</td>\n",
       "      <td>15.4</td>\n",
       "      <td>17.2</td>\n",
       "      <td>0.041</td>\n",
       "    </tr>\n",
       "    <tr>\n",
       "      <th>2</th>\n",
       "      <td>7/11/14 12:02</td>\n",
       "      <td>12</td>\n",
       "      <td>2</td>\n",
       "      <td>0</td>\n",
       "      <td>11</td>\n",
       "      <td>7</td>\n",
       "      <td>2014</td>\n",
       "      <td>2.988</td>\n",
       "      <td>11.860</td>\n",
       "      <td>NaN</td>\n",
       "      <td>...</td>\n",
       "      <td>0.188</td>\n",
       "      <td>23.5</td>\n",
       "      <td>15.3</td>\n",
       "      <td>13.0</td>\n",
       "      <td>13.8</td>\n",
       "      <td>15.5</td>\n",
       "      <td>11.8</td>\n",
       "      <td>15.4</td>\n",
       "      <td>17.3</td>\n",
       "      <td>0.042</td>\n",
       "    </tr>\n",
       "    <tr>\n",
       "      <th>3</th>\n",
       "      <td>7/11/14 12:03</td>\n",
       "      <td>12</td>\n",
       "      <td>3</td>\n",
       "      <td>0</td>\n",
       "      <td>11</td>\n",
       "      <td>7</td>\n",
       "      <td>2014</td>\n",
       "      <td>5.413</td>\n",
       "      <td>12.028</td>\n",
       "      <td>NaN</td>\n",
       "      <td>...</td>\n",
       "      <td>0.206</td>\n",
       "      <td>24.1</td>\n",
       "      <td>15.2</td>\n",
       "      <td>13.1</td>\n",
       "      <td>13.7</td>\n",
       "      <td>15.5</td>\n",
       "      <td>11.8</td>\n",
       "      <td>15.5</td>\n",
       "      <td>17.4</td>\n",
       "      <td>0.044</td>\n",
       "    </tr>\n",
       "    <tr>\n",
       "      <th>4</th>\n",
       "      <td>7/11/14 12:04</td>\n",
       "      <td>12</td>\n",
       "      <td>4</td>\n",
       "      <td>0</td>\n",
       "      <td>11</td>\n",
       "      <td>7</td>\n",
       "      <td>2014</td>\n",
       "      <td>6.788</td>\n",
       "      <td>12.310</td>\n",
       "      <td>NaN</td>\n",
       "      <td>...</td>\n",
       "      <td>0.240</td>\n",
       "      <td>24.7</td>\n",
       "      <td>15.2</td>\n",
       "      <td>13.1</td>\n",
       "      <td>13.7</td>\n",
       "      <td>15.5</td>\n",
       "      <td>11.8</td>\n",
       "      <td>15.5</td>\n",
       "      <td>17.5</td>\n",
       "      <td>0.043</td>\n",
       "    </tr>\n",
       "  </tbody>\n",
       "</table>\n",
       "<p>5 rows × 24 columns</p>\n",
       "</div>"
      ],
      "text/plain": [
       "            Date  Hour  Minute  Second  Day  Month  Year  Wind_Speed_(m/s)  \\\n",
       "0  7/11/14 12:00    12       0       0   11      7  2014             4.458   \n",
       "1  7/11/14 12:01    12       1       0   11      7  2014             4.887   \n",
       "2  7/11/14 12:02    12       2       0   11      7  2014             2.988   \n",
       "3  7/11/14 12:03    12       3       0   11      7  2014             5.413   \n",
       "4  7/11/14 12:04    12       4       0   11      7  2014             6.788   \n",
       "\n",
       "   Temperature_(degC)  SO2_(ppb)        ...          CO_(ppm)  H01-K-E  \\\n",
       "0              11.910        NaN        ...             0.193     22.3   \n",
       "1              11.944        NaN        ...             0.163     22.9   \n",
       "2              11.860        NaN        ...             0.188     23.5   \n",
       "3              12.028        NaN        ...             0.206     24.1   \n",
       "4              12.310        NaN        ...             0.240     24.7   \n",
       "\n",
       "   H02-K-N  H03-K-S  H04-K-S  H05-K-N  H06-K-N  H07-K-S  H10-K-N  \\\n",
       "0     15.4     13.1     13.8     15.4     11.7     15.3     17.1   \n",
       "1     15.3     13.1     13.8     15.4     11.7     15.4     17.2   \n",
       "2     15.3     13.0     13.8     15.5     11.8     15.4     17.3   \n",
       "3     15.2     13.1     13.7     15.5     11.8     15.5     17.4   \n",
       "4     15.2     13.1     13.7     15.5     11.8     15.5     17.5   \n",
       "\n",
       "   Dusttraks_(mg/m3)  \n",
       "0              0.043  \n",
       "1              0.041  \n",
       "2              0.042  \n",
       "3              0.044  \n",
       "4              0.043  \n",
       "\n",
       "[5 rows x 24 columns]"
      ]
     },
     "execution_count": 166,
     "metadata": {},
     "output_type": "execute_result"
    }
   ],
   "source": [
    "dataframe2.head()"
   ]
  },
  {
   "cell_type": "markdown",
   "metadata": {},
   "source": [
    "### SOME HELPER FUNCTIONS TO BE USED IN ANALYSIS"
   ]
  },
  {
   "cell_type": "code",
   "execution_count": 167,
   "metadata": {
    "collapsed": false
   },
   "outputs": [],
   "source": [
    "def get_datetime(s):\n",
    "    try:\n",
    "        dt = datetime.strptime(s, \"%m/%d/%y %H:%M\")\n",
    "    except ValueError:\n",
    "        try:            \n",
    "            dt = datetime.strptime(s, \"%Y-%m-%d %H:%M:%S\")\n",
    "        except ValueError:\n",
    "                raise ValueError('Date must be in \"%m/%d/%y %H:%M\" or \"%m/%d/%y %H:%M:%S\" format')\n",
    "    return dt\n",
    "      \n",
    "\n",
    "def days_since_start(df):\n",
    "    \"\"\"get time since epoch using a series for month and day\n",
    "    takes in dataframe and returns the dataframe with an added column\n",
    "    for days since the beginning of data collection\"\"\"\n",
    "    \n",
    "    day_array = np.array(df.Day)\n",
    "    month_array = np.array(df.Month)\n",
    "    year_array = np.array(df.Year)\n",
    "    first_month = df['Month'].min()\n",
    "    running_days = []\n",
    "    for day, month in zip(day_array, month_array):\n",
    "        total_days = (month - first_month) * 31\n",
    "        total_days = total_days + day\n",
    "        #print'tot days:', total_days, month, day\n",
    "        running_days.append(total_days)\n",
    "    df['DayCount'] = pd.Series(running_days, index = df.index)\n",
    "    return df\n",
    "\n",
    "\n",
    "#Daily Averages\n",
    "\n",
    "#average_vals_columns = ['DailyAvgTemp', 'DailyAvgPM4', 'DailyAvgWind', 'DailyAvgPM10', 'DailyAvgPM2.5']\n",
    "\n",
    "def compute_avg_vals(df):\n",
    "    \"\"\"computes average values of each day in a dataframe\n",
    "    must apply to a groupby object where df is grouped by days\n",
    "    returns a dataframe with several new, added columns \"\"\"\n",
    "    \n",
    "    numerics = ['int16', 'int32', 'int64', 'float16', 'float32', 'float64']\n",
    "    time_columns = ['Hour', 'Day', 'Month', 'Year', 'DayCount', 'Date']\n",
    "    for column in df.columns:\n",
    "        if df[column].dtype in numerics and column not in time_columns:\n",
    "            if column + '_Daily_Avg' not in df.columns:\n",
    "                df[column + '_Daily_Avg'] = df[column].mean()\n",
    "    return df\n",
    "\n",
    "def compute_avg_house13(df):\n",
    "    \"\"\"tailored to compute the average indoor house temperature of 2013\"\"\"\n",
    "    df['AvgHouse'] = (df['H01-K-E']+ df['H02-K-N']+ df['H03-K-S']+ df['H04-K-S']\n",
    "                      + df['H05-K-N']+df['H06-K-N'] + df['H10-K-N']\n",
    "                      +df['H11-K-X']+ df['H12-K-N'] + df['H15-K-S'] +df['H17-K-N'] \n",
    "                      + df['H18-K-S'] + df['H20-K-S']\n",
    "                      )/13\n",
    "    return df\n",
    "\n",
    "def compute_avg_house14(df):\n",
    "    \"\"\"tailored to compute the avg indoor house temp for 2014\"\"\"\n",
    "    df['AvgHouse'] = (df['H01-K-E']+ df['H02-K-N']+ df['H03-K-S']+ df['H04-K-S']\n",
    "                      + df['H05-K-N']+df['H06-K-N'] + df['H10-K-N']\n",
    "                      +df['H11-K-N'] + df['H15-K-N']+df['H16-K-N'] +df['H17-K-S'] \n",
    "                      + df['H18-K-N']+df['H19-K-W'] + df['H22-K-S']\n",
    "                      )/14\n",
    "    return df\n",
    "\n",
    "def temp_difference(df):\n",
    "    \"\"\"computes a column of the difference in indoor and outdoor temperature, AvgHouse and Temperature_(degC)\n",
    "    df: any given dataframe\n",
    "    returns a dataframe with a new column\"\"\"\n",
    "    df['temp_difference'] = df['AvgHouse']-df['Temperature_(degC)']\n",
    "    return df\n",
    "\n",
    "\n",
    "def abcde_time_dataframes(df):\n",
    "    \"\"\"splits a dataframe into a series of times for differently characterized burning periods of the day\n",
    "    df: timeseries dataframe to be split into specified time ranges\n",
    "    returns: 4 different dataframes for early morning, breakfast, afternoon, dinner, and evening times\n",
    "    \"\"\"\n",
    "    #DATAFRAMES FOR GIVEN TIME RANGES\n",
    "    dfA = df[df['Hour'] < 5]\n",
    "    dfB = df[df['Hour'] > 4]\n",
    "    dfB = dfB[dfB['Hour'] <= 9]\n",
    "    dfC = df[df['Hour'] >9]\n",
    "    dfC = dfC[dfC['Hour'] <= 14]\n",
    "    dfD = df[df['Hour'] >14]\n",
    "    dfD = dfD[dfD['Hour'] <= 21]\n",
    "    dfE = df[df['Hour'] > 21]\n",
    "    res = [dfA, dfB, dfC, dfD, dfE]\n",
    "    return res\n",
    "\n",
    "\n",
    "#GENERAL FUNCTION FOR DIURNAL DATA\n",
    "\n",
    "def get_mean_feature_for_hour(hourdf, feature):\n",
    "    \"\"\"hourdf: dataframe specific to one hour of data\n",
    "    feature: given header to be explored (temperature, PMx, etc)\n",
    "    returns: dataframe with a new mean feature per hour\"\"\"\n",
    "    \n",
    "    res = hourdf[feature].mean()\n",
    "    return res\n",
    "\n",
    "def feature_diurnal_data(df, feature):\n",
    "    \"\"\"breaks down a given dataframe by feature into one dataframe per hour (24) for plotting of a dirunal profile\n",
    "    df: dataframe to be broken down\n",
    "    feature: header to be broken down\"\"\"\n",
    "    #feature for example could be a temperature or pollutant concentration\n",
    "    dfhour0 = df[df['Hour'] == 0]\n",
    "    feat0 = get_mean_feature_for_hour(dfhour0, feature)\n",
    "    dfhour1 = df[df['Hour'] == 1]\n",
    "    feat1= get_mean_feature_for_hour(dfhour1, feature)\n",
    "    dfhour2 = df[df['Hour'] == 2]\n",
    "    feat2 = get_mean_feature_for_hour(dfhour2, feature)\n",
    "    dfhour3 = df[df['Hour'] == 3]\n",
    "    feat3 = get_mean_feature_for_hour(dfhour3, feature)\n",
    "    dfhour4 = df[df['Hour'] == 4]\n",
    "    feat4 = get_mean_feature_for_hour(dfhour4, feature)\n",
    "    dfhour5 = df[df['Hour'] == 5]\n",
    "    feat5 = get_mean_feature_for_hour(dfhour5, feature)\n",
    "    dfhour6 = df[df['Hour'] == 6]\n",
    "    feat6 = get_mean_feature_for_hour(dfhour6, feature)\n",
    "    dfhour7 = df[df['Hour'] == 7]\n",
    "    feat7 = get_mean_feature_for_hour(dfhour7, feature)\n",
    "    dfhour8 = df[df['Hour'] == 8]\n",
    "    feat8 = get_mean_feature_for_hour(dfhour8, feature)\n",
    "    dfhour9 = df[df['Hour'] == 9]\n",
    "    feat9 = get_mean_feature_for_hour(dfhour9, feature)\n",
    "    dfhour10 = df[df['Hour'] == 10]\n",
    "    feat10 = get_mean_feature_for_hour(dfhour10, feature)\n",
    "    dfhour11 = df[df['Hour'] == 11]\n",
    "    feat11 = get_mean_feature_for_hour(dfhour11, feature)\n",
    "    dfhour12 = df[df['Hour'] == 12]\n",
    "    feat12 = get_mean_feature_for_hour(dfhour12, feature)\n",
    "    dfhour13 = df[df['Hour'] == 13]\n",
    "    feat13 = get_mean_feature_for_hour(dfhour13, feature)\n",
    "    dfhour14 = df[df['Hour'] == 14]\n",
    "    feat14 = get_mean_feature_for_hour(dfhour14, feature)\n",
    "    dfhour15 = df[df['Hour'] == 15]\n",
    "    feat15 = get_mean_feature_for_hour(dfhour15, feature)\n",
    "    dfhour16 = df[df['Hour'] == 16]\n",
    "    feat16 = get_mean_feature_for_hour(dfhour16, feature)\n",
    "    dfhour17 = df[df['Hour'] == 17]\n",
    "    feat17 = get_mean_feature_for_hour(dfhour17, feature)\n",
    "    dfhour18 = df[df['Hour'] == 18]\n",
    "    feat18 = get_mean_feature_for_hour(dfhour18, feature)\n",
    "    dfhour19 = df[df['Hour'] == 19]\n",
    "    feat19 = get_mean_feature_for_hour(dfhour19, feature)\n",
    "    dfhour20 = df[df['Hour'] == 20]\n",
    "    feat20 = get_mean_feature_for_hour(dfhour20, feature)\n",
    "    dfhour21 = df[df['Hour'] == 21]\n",
    "    feat21 = get_mean_feature_for_hour(dfhour21, feature)\n",
    "    dfhour22 = df[df['Hour'] == 22]\n",
    "    feat22 = get_mean_feature_for_hour(dfhour22, feature)\n",
    "    dfhour23 = df[df['Hour'] == 23]\n",
    "    feat23 = get_mean_feature_for_hour(dfhour23, feature)\n",
    "\n",
    "    featlist = [feat0,feat1,feat2,feat3,feat4,feat5,feat6,feat7,feat8,feat9,feat10,feat11,feat12,feat13,feat14,feat15,feat16,feat17,feat18,feat19,feat20,feat21,feat22,feat23]\n",
    "    return featlist\n",
    "\n",
    "hour_list = range(0,24)\n",
    "\n",
    "def preprocess(df):\n",
    "    \"\"\"get all mean features and recodes for plotting and stats analysis\n",
    "    apply correction factor and unit tweaking where appropriate\n",
    "    returns: a copy of the original df with added hour, day,month, year, daycount\n",
    "    tempdifferent, and PM4 counts\"\"\"\n",
    "\n",
    "    res = df.copy()\n",
    "    if hasattr(res, 'Date'):\n",
    "        res['Date'] = (res.Date.astype(str))       \n",
    "        datetimes = res.Date.apply(get_datetime)\n",
    "        res['Hour'] = datetimes.apply(lambda dt: dt.hour)\n",
    "        res['Day'] = datetimes.apply(lambda dt: dt.day)\n",
    "        res['Month'] = datetimes.apply(lambda dt: dt.month)\n",
    "        res['Year'] = datetimes.apply(lambda dt: dt.year)\n",
    "    res = days_since_start(res)\n",
    "    if 'Dusttraks_(mg/m3)' in res.columns:\n",
    "        dusttraks_correction_factor = 0.14\n",
    "        res['Dusttraks_(mg/m3)'] = res['Dusttraks_(mg/m3)']*dusttraks_correction_factor\n",
    "    if 'PM4_(ug/m3)' in res.columns:\n",
    "        res['PM4_(ug/m3)']=res['Dusttraks_(mg/m3)']*1000\n",
    "    grouped = res.groupby('DayCount')\n",
    "    res = grouped.apply(compute_avg_vals)\n",
    "    return res\n",
    "\n",
    "\n"
   ]
  },
  {
   "cell_type": "markdown",
   "metadata": {},
   "source": [
    "### SOME DATAFRAME CLEANING"
   ]
  },
  {
   "cell_type": "code",
   "execution_count": 168,
   "metadata": {
    "collapsed": false
   },
   "outputs": [],
   "source": [
    "dataframe1 = preprocess(dataframe1)\n",
    "dataframe2 = preprocess(dataframe2)\n",
    "\n",
    "df_dict['dataframe1']=dataframe1\n",
    "df_dict['dataframe2']=dataframe2"
   ]
  },
  {
   "cell_type": "markdown",
   "metadata": {},
   "source": [
    "## COMPARING TWO DATASETS"
   ]
  },
  {
   "cell_type": "markdown",
   "metadata": {},
   "source": [
    "CHOOSE VAL"
   ]
  },
  {
   "cell_type": "code",
   "execution_count": 169,
   "metadata": {
    "collapsed": false
   },
   "outputs": [],
   "source": [
    "df1_columns = [column for column in dataframe1]\n",
    "df1_feature_x = widgets.Dropdown(\n",
    "    options= df1_columns,\n",
    "    value = 'DayCount',\n",
    "    description='Choose x feature:'\n",
    ")\n",
    "display(df1_feature_x)"
   ]
  },
  {
   "cell_type": "code",
   "execution_count": 170,
   "metadata": {
    "collapsed": false
   },
   "outputs": [],
   "source": [
    "df1_columns = [column for column in dataframe1]\n",
    "df1_feature_y = widgets.Dropdown(\n",
    "    value = df1_columns[-1],\n",
    "    options= df1_columns,\n",
    "    description='Choose y feature:'\n",
    ")\n",
    "display(df1_feature_y)"
   ]
  },
  {
   "cell_type": "code",
   "execution_count": 171,
   "metadata": {
    "collapsed": false
   },
   "outputs": [
    {
     "data": {
      "image/png": "[encoded data removed]",
      "text/plain": [
       "<matplotlib.figure.Figure at 0x7fc5e7251d50>"
      ]
     },
     "metadata": {},
     "output_type": "display_data"
    }
   ],
   "source": [
    "def plot_x_y_features(feature_x, feature_y, dataframe1_name, dataframe2_name):\n",
    "    while(True):\n",
    "        try:\n",
    "            plt.plot(dataframe1[feature_x.value], dataframe1[feature_y.value])\n",
    "            plt.plot(dataframe2[feature_x.value], dataframe2[feature_y.value])\n",
    "            plt.xlabel(feature_x.value)\n",
    "            plt.ylabel(feature_y.value)\n",
    "            plt.legend([dataframe1_name.value, dataframe2_name.value])\n",
    "            plt.title(dataframe1_name.value + ' vs ' + dataframe2_name.value)\n",
    "            plt.show()\n",
    "            break\n",
    "        except:\n",
    "            print \"Cannont plot graph. Please try a different feature\"\n",
    "            return\n",
    "plot_x_y_features(df1_feature_x, df1_feature_y, dataframe1_name, dataframe2_name)"
   ]
  },
  {
   "cell_type": "markdown",
   "metadata": {},
   "source": [
    "## COMPARE TWO DATASETS DIURNAL"
   ]
  },
  {
   "cell_type": "code",
   "execution_count": 172,
   "metadata": {
    "collapsed": false
   },
   "outputs": [],
   "source": [
    "df1_columns = [column for column in dataframe1]\n",
    "df_feature_diurnal = widgets.Dropdown(\n",
    "    options= df1_columns,\n",
    "    description='Choose feature:'\n",
    ")\n",
    "display(df_feature_diurnal)"
   ]
  },
  {
   "cell_type": "code",
   "execution_count": 173,
   "metadata": {
    "collapsed": false
   },
   "outputs": [
    {
     "name": "stdout",
     "output_type": "stream",
     "text": [
      "Cannont plot diurnal graph. Please try a different feature\n"
     ]
    }
   ],
   "source": [
    "def plot_diurnal(hour_list, dataframe1, dataframe2, df_feature_diurnal, dataframe1_name, dataframe2_name):\n",
    "    while True:\n",
    "         try:\n",
    "            plt.plot(hour_list, feature_diurnal_data(dataframe1, df_feature_diurnal.value))\n",
    "            plt.plot(hour_list, feature_diurnal_data(dataframe2, df_feature_diurnal.value))\n",
    "            plt.title('Diurnal profile of ' + df_feature_diurnal.value)\n",
    "            plt.legend([dataframe1_name.value, dataframe2_name.value])\n",
    "            plt.ylabel(df_feature_diurnal.value + ' (Needs units)')\n",
    "            plt.xlabel('Hour of day')\n",
    "            plt.show()\n",
    "            break\n",
    "         except TypeError:\n",
    "            print \"Cannont plot diurnal graph. Please try a different feature\"\n",
    "            return\n",
    "\n",
    "plot_diurnal(hour_list, dataframe1, dataframe2, df_feature_diurnal, dataframe1_name, dataframe2_name)\n"
   ]
  },
  {
   "cell_type": "markdown",
   "metadata": {},
   "source": [
    "## Choose date/time range\n",
    "Assuming sorted by date."
   ]
  },
  {
   "cell_type": "code",
   "execution_count": 174,
   "metadata": {
    "collapsed": false
   },
   "outputs": [
    {
     "name": "stdout",
     "output_type": "stream",
     "text": [
      "Please enter a value between 2 and 88\n"
     ]
    }
   ],
   "source": [
    "start_day = widgets.Text(\n",
    "    description='Select day to mark start of time range',\n",
    "    value= str(min(dataframe1['DayCount'])),\n",
    ")\n",
    "print 'Please enter a value between ' + str(min(dataframe1['DayCount'])) + ' and ' + str(max(dataframe1['DayCount'])-1)\n",
    "\n",
    "start_day"
   ]
  },
  {
   "cell_type": "code",
   "execution_count": 175,
   "metadata": {
    "collapsed": false
   },
   "outputs": [],
   "source": [
    "start_day = int(start_day.value)"
   ]
  },
  {
   "cell_type": "code",
   "execution_count": 176,
   "metadata": {
    "collapsed": false
   },
   "outputs": [
    {
     "name": "stdout",
     "output_type": "stream",
     "text": [
      "Please enter a value between 3 and 89\n"
     ]
    }
   ],
   "source": [
    "end_day = widgets.Text(\n",
    "    description='Select day to mark end of time range',\n",
    "    value= str(max(dataframe1['DayCount'])),\n",
    ")\n",
    "print 'Please enter a value between ' + str(min(dataframe1['DayCount'])+1) + ' and ' + str(max(dataframe1['DayCount']))\n",
    "\n",
    "end_day"
   ]
  },
  {
   "cell_type": "code",
   "execution_count": 177,
   "metadata": {
    "collapsed": true
   },
   "outputs": [],
   "source": [
    "end_day = int(end_day.value)"
   ]
  },
  {
   "cell_type": "code",
   "execution_count": 178,
   "metadata": {
    "collapsed": false
   },
   "outputs": [],
   "source": [
    "df1_columns = [column for column in dataframe1]\n",
    "df_feature_diurnal_day_range = widgets.Dropdown(\n",
    "    options= df1_columns,\n",
    "    description='Choose feature:'\n",
    ")\n",
    "display(df_feature_diurnal_day_range)"
   ]
  },
  {
   "cell_type": "code",
   "execution_count": 179,
   "metadata": {
    "collapsed": false
   },
   "outputs": [
    {
     "name": "stdout",
     "output_type": "stream",
     "text": [
      "Could not plot desired graph. Please try selecting a different feature.\n"
     ]
    }
   ],
   "source": [
    "def plot_day_range_diurnal(feature, df1, df2, df1_name, df2_name, start_day, end_day):\n",
    "    df1_time_range = df1[(df1['DayCount']) >= start_day]\n",
    "    df1_time_range = df1_time_range[(df1_time_range['DayCount']) <= end_day]\n",
    "    df_dict['df1_day_range'] = df1_time_range\n",
    "    df2_time_range = df2[(df2['DayCount']) >= start_day]\n",
    "    df2_time_range = df2_time_range[(df2_time_range['DayCount']) <= end_day]\n",
    "    df_dict['df2_day_range'] = df2_time_range\n",
    "    hourlist = range(0,24)\n",
    "    while True:\n",
    "        try:\n",
    "            plt.plot(hourlist, feature_diurnal_data(df1_time_range, feature))\n",
    "            plt.plot(hourlist, feature_diurnal_data(df2_time_range, feature))        \n",
    "            plt.legend([df1_name, df2_name])\n",
    "            plt.title(feature + ' Diurnal From Days ' + str(start_day) + ' to ' + str(end_day))\n",
    "            plt.xlabel('Hour')\n",
    "            plt.ylabel(feature)\n",
    "            plt.show()\n",
    "            break\n",
    "        except TypeError:\n",
    "            print('Could not plot desired graph. Please try selecting a different feature.')\n",
    "            return\n",
    "\n",
    "plot_day_range_diurnal(df_feature_diurnal_day_range.value,\n",
    "                       dataframe1,\n",
    "                       dataframe2,\n",
    "                       dataframe1_name.value,\n",
    "                       dataframe2_name.value,\n",
    "                       start_day,\n",
    "                       end_day)"
   ]
  },
  {
   "cell_type": "markdown",
   "metadata": {},
   "source": [
    "### Interactive Day Range Selection"
   ]
  },
  {
   "cell_type": "code",
   "execution_count": 180,
   "metadata": {
    "collapsed": false
   },
   "outputs": [
    {
     "name": "stdout",
     "output_type": "stream",
     "text": [
      "Select day range to visualize.\n",
      "Could not plot desired graph. Please try selecting a different feature.\n"
     ]
    }
   ],
   "source": [
    "day_start_slider = IntSlider(min=min(dataframe1['DayCount']), max=max(dataframe1['DayCount']), step=1, value=2)\n",
    "day_end_slider = IntSlider(min=min(dataframe1['DayCount']), max=max(dataframe1['DayCount']), step=1, value=max(dataframe1['DayCount']))\n",
    "@interact(start_day_interactive = day_start_slider, end_day_interactive = day_end_slider)\n",
    "\n",
    "def plot_interactive_day_range(start_day_interactive, end_day_interactive):\n",
    "    print('Select day range to visualize.')\n",
    "    plot_day_range_diurnal(df_feature_diurnal_day_range.value,\n",
    "                       dataframe1,\n",
    "                       dataframe2,\n",
    "                       dataframe1_name.value,\n",
    "                       dataframe2_name.value,\n",
    "                       start_day_interactive,\n",
    "                       end_day_interactive)"
   ]
  },
  {
   "cell_type": "markdown",
   "metadata": {},
   "source": [
    "## Choose time of day/hour range."
   ]
  },
  {
   "cell_type": "markdown",
   "metadata": {},
   "source": [
    "Choose starting time: An integer between 0 and 24 corresponding to the hour of the day."
   ]
  },
  {
   "cell_type": "code",
   "execution_count": 181,
   "metadata": {
    "collapsed": false
   },
   "outputs": [],
   "source": [
    "start_hour = widgets.Text(\n",
    "    description='Starting time: an integer between 0 and 24 corresponding to the hour of the day.',\n",
    "    value= '0',\n",
    ")\n",
    "start_hour"
   ]
  },
  {
   "cell_type": "code",
   "execution_count": 182,
   "metadata": {
    "collapsed": true
   },
   "outputs": [],
   "source": [
    "start_hour = int(start_hour.value)"
   ]
  },
  {
   "cell_type": "code",
   "execution_count": 183,
   "metadata": {
    "collapsed": true
   },
   "outputs": [],
   "source": [
    "end_hour = widgets.Text(\n",
    "    description='End time: an integer between 0 and 24 corresponding to the hour of the day.',\n",
    "    value= '23',\n",
    ")\n",
    "end_hour"
   ]
  },
  {
   "cell_type": "code",
   "execution_count": 184,
   "metadata": {
    "collapsed": true
   },
   "outputs": [],
   "source": [
    "end_hour = int(end_hour.value)"
   ]
  },
  {
   "cell_type": "code",
   "execution_count": 185,
   "metadata": {
    "collapsed": false
   },
   "outputs": [],
   "source": [
    "df1_columns = [column for column in dataframe1]\n",
    "hour_range_feature_x = widgets.Dropdown(\n",
    "    options= df1_columns,\n",
    "    value = 'DayCount',\n",
    "    description='Choose feature:'\n",
    ")\n",
    "display(hour_range_feature_x)"
   ]
  },
  {
   "cell_type": "code",
   "execution_count": 186,
   "metadata": {
    "collapsed": true
   },
   "outputs": [],
   "source": [
    "df1_columns = [column for column in dataframe1]\n",
    "hour_range_feature_y = widgets.Dropdown(\n",
    "    value= df1_columns[-1],\n",
    "    options= df1_columns,\n",
    "    description='Choose feature:'\n",
    ")\n",
    "display(hour_range_feature_y)"
   ]
  },
  {
   "cell_type": "code",
   "execution_count": 187,
   "metadata": {
    "collapsed": false
   },
   "outputs": [
    {
     "data": {
      "image/png": "[encoded data removed]",
      "text/plain": [
       "<matplotlib.figure.Figure at 0x7fc5e5e884d0>"
      ]
     },
     "metadata": {},
     "output_type": "display_data"
    }
   ],
   "source": [
    "def plot_hour_range(feature_x, feature_y, df1, df2, start_hour, end_hour, df1_name, df2_name):\n",
    "    df1_time_range = df1[(df1['Hour']) >= start_hour]\n",
    "    df1_time_range = df1_time_range[(df1_time_range['Hour']) <= end_hour]\n",
    "    df2_time_range = df2[(df2['Hour']) >= start_hour]\n",
    "    df2_time_range = df2_time_range[(df2_time_range['Hour']) <= end_hour]\n",
    "    grouped = df1_time_range.groupby('DayCount')\n",
    "    df1_time_range = grouped.apply(compute_avg_vals)\n",
    "    df_dict['df1_hour_range'] = df1_time_range\n",
    "    grouped = df2_time_range.groupby('DayCount')\n",
    "    df2_time_range = grouped.apply(compute_avg_vals)\n",
    "    df_dict['df2_hour_range'] = df2_time_range\n",
    "    \n",
    "    while(True):\n",
    "        try:\n",
    "            plt.plot(df1_time_range[feature_x.value], df1_time_range[feature_y.value])\n",
    "            plt.plot(df2_time_range[feature_x.value], df2_time_range[feature_y.value])\n",
    "            plt.xlabel(feature_x.value)\n",
    "            plt.ylabel(feature_y.value)\n",
    "            plt.legend([df1_name.value, df2_name.value])\n",
    "            plt.title('Daily Averages between ' + str(start_hour) + ':00 and ' + str(end_hour) + ':00.')\n",
    "            plt.show()\n",
    "            break\n",
    "        except:\n",
    "            print \"Cannont plot graph. Please try a different feature\"\n",
    "            return\n",
    "\n",
    "plot_hour_range(hour_range_feature_x,\n",
    "                       hour_range_feature_y,\n",
    "                       dataframe1,\n",
    "                       dataframe2,\n",
    "                       start_hour,\n",
    "                       end_hour,\n",
    "                       dataframe1_name,\n",
    "                       dataframe2_name)\n"
   ]
  },
  {
   "cell_type": "markdown",
   "metadata": {
    "collapsed": false
   },
   "source": [
    "### Interactive Time of Day Range Selection"
   ]
  },
  {
   "cell_type": "code",
   "execution_count": 188,
   "metadata": {
    "collapsed": false
   },
   "outputs": [
    {
     "name": "stdout",
     "output_type": "stream",
     "text": [
      "Select values for time of day range cutoff hours.\n"
     ]
    },
    {
     "data": {
      "image/png": "[encoded data removed]",
      "text/plain": [
       "<matplotlib.figure.Figure at 0x7fc5e7587390>"
      ]
     },
     "metadata": {},
     "output_type": "display_data"
    }
   ],
   "source": [
    "hour_start_slider = IntSlider(min=0, max=23, step=1, value=0)\n",
    "hour_end_slider = IntSlider(min=0, max=23, step=1, value=23)\n",
    "@interact(start_hour_interactive = hour_start_slider, end_hour_interactive = hour_end_slider)\n",
    "\n",
    "def plot_interactive_time_range(start_hour_interactive, end_hour_interactive):\n",
    "    print('Select values for time of day range cutoff hours.')\n",
    "    plot_hour_range(hour_range_feature_x,\n",
    "                       hour_range_feature_y,\n",
    "                       dataframe1,\n",
    "                       dataframe2,\n",
    "                       start_hour_interactive,\n",
    "                       end_hour_interactive,\n",
    "                       dataframe1_name,\n",
    "                       dataframe2_name)\n",
    "               \n",
    "               "
   ]
  },
  {
   "cell_type": "markdown",
   "metadata": {
    "collapsed": true
   },
   "source": [
    "## Temperature Brackets\n",
    "Currently assumes Temperature_(degC) column in dataset."
   ]
  },
  {
   "cell_type": "code",
   "execution_count": 189,
   "metadata": {
    "collapsed": false
   },
   "outputs": [],
   "source": [
    "warm_days = widgets.Text(\n",
    "    description='Minimum average temperature for warm days',\n",
    "    value= '14.4',\n",
    ")\n",
    "warm_days"
   ]
  },
  {
   "cell_type": "code",
   "execution_count": 190,
   "metadata": {
    "collapsed": true
   },
   "outputs": [],
   "source": [
    "warm_days_cutoff = float(warm_days.value)"
   ]
  },
  {
   "cell_type": "code",
   "execution_count": 191,
   "metadata": {
    "collapsed": true
   },
   "outputs": [],
   "source": [
    "cold_days = widgets.Text(\n",
    "    description='Minimum average temperature for cold days',\n",
    "    value= '8.7',\n",
    ")\n",
    "cold_days"
   ]
  },
  {
   "cell_type": "code",
   "execution_count": 192,
   "metadata": {
    "collapsed": false
   },
   "outputs": [],
   "source": [
    "cold_days_cutoff = float(cold_days.value)"
   ]
  },
  {
   "cell_type": "code",
   "execution_count": 193,
   "metadata": {
    "collapsed": true
   },
   "outputs": [],
   "source": [
    "df1_columns = [column for column in dataframe1]\n",
    "df_feature_diurnal_temperature_range = widgets.Dropdown(\n",
    "    options= df1_columns,\n",
    "    description='Choose feature:'\n",
    ")\n",
    "display(df_feature_diurnal_temperature_range)"
   ]
  },
  {
   "cell_type": "code",
   "execution_count": 194,
   "metadata": {
    "collapsed": false
   },
   "outputs": [
    {
     "name": "stdout",
     "output_type": "stream",
     "text": [
      "Could not plot desired graph. Please try selecting a different feature.\n"
     ]
    }
   ],
   "source": [
    "def plot_temp_bracket_diurnal(feature, name, df1, df2, cold_days_cutoff, warm_days_cutoff, df1_name, df2_name):\n",
    "    hourlist = range(0,24)\n",
    "    df1cold = dataframe1[(dataframe1['Temperature_(degC)_Daily_Avg']) <= cold_days_cutoff]\n",
    "    df_dict['df1cold']=df1cold\n",
    "    df1mid = dataframe1[dataframe1['Temperature_(degC)_Daily_Avg'] > cold_days_cutoff]\n",
    "    df1mid = df1mid[df1mid['Temperature_(degC)_Daily_Avg'] < warm_days_cutoff]\n",
    "    df_dict['df1mid']=df1mid\n",
    "    df1warm = dataframe1[dataframe1['Temperature_(degC)_Daily_Avg'] >= warm_days_cutoff]\n",
    "    df_dict['df1warm']=df1warm\n",
    "    df2cold = dataframe2[dataframe2['Temperature_(degC)_Daily_Avg'] <= cold_days_cutoff]\n",
    "    df_dict['df2cold']=df2cold\n",
    "    df2mid = dataframe2[dataframe2['Temperature_(degC)_Daily_Avg'] > cold_days_cutoff]\n",
    "    df2mid = df2mid[df2mid['Temperature_(degC)_Daily_Avg'] < warm_days_cutoff]\n",
    "    df_dict['df2mid']=df2mid\n",
    "    df2warm = dataframe2[dataframe2['Temperature_(degC)_Daily_Avg'] >= warm_days_cutoff]\n",
    "    df_dict['df2warm']=df2warm\n",
    "    while True:\n",
    "        try:\n",
    "            plt.plot(hourlist, feature_diurnal_data(df1cold, name))\n",
    "            plt.plot(hourlist, feature_diurnal_data(df1mid, name))\n",
    "            plt.plot(hourlist, feature_diurnal_data(df1warm, name))\n",
    "            plt.plot(hourlist, feature_diurnal_data(df2cold, name))\n",
    "            plt.plot(hourlist, feature_diurnal_data(df2mid, name))\n",
    "            plt.plot(hourlist, feature_diurnal_data(df2warm, name))         \n",
    "\n",
    "            plt.legend([df1_name + ' Cold', df1_name + ' Mid',\n",
    "                        df1_name + ' Warm', df2_name + ' Cold',\n",
    "                        df2_name + ' Mid', df2_name + ' Warm'])\n",
    "            plt.title(name + ' Diurnal Temperature Brackets')\n",
    "            plt.xlabel('Hour')\n",
    "            plt.ylabel(name)\n",
    "            plt.show()\n",
    "            break\n",
    "        except:\n",
    "            print('Could not plot desired graph. Please try selecting a different feature.')\n",
    "            return\n",
    "\n",
    "plot_temp_bracket_diurnal(df_feature_diurnal_temperature_range.value,\n",
    "                       df_feature_diurnal_temperature_range.value,\n",
    "                       dataframe1,\n",
    "                       dataframe2,\n",
    "                       cold_days_cutoff,\n",
    "                       warm_days_cutoff,\n",
    "                       dataframe1_name.value,\n",
    "                       dataframe2_name.value)"
   ]
  },
  {
   "cell_type": "markdown",
   "metadata": {
    "collapsed": true
   },
   "source": [
    "### Live interactive temperature brackets with cutoffs"
   ]
  },
  {
   "cell_type": "code",
   "execution_count": 195,
   "metadata": {
    "collapsed": false
   },
   "outputs": [
    {
     "name": "stdout",
     "output_type": "stream",
     "text": [
      "Select values for temperature bracket cutoff temperatures (degrees Celsius).\n",
      "Could not plot desired graph. Please try selecting a different feature.\n"
     ]
    }
   ],
   "source": [
    "cold_cutoff_slider = FloatSlider(min=dataframe1['Temperature_(degC)'].min(), max=dataframe1['Temperature_(degC)'].max(), step=.25, value=8)\n",
    "warm_cutoff_slider = FloatSlider(min=dataframe1['Temperature_(degC)'].min(), max=dataframe1['Temperature_(degC)'].max(), step=.25, value=15)\n",
    "@interact(cold_days_interactive_cutoff = cold_cutoff_slider, warm_days_interactive_cutoff = warm_cutoff_slider)\n",
    "\n",
    "def plot_interactive_temp_bracket_diurnal(cold_days_interactive_cutoff, warm_days_interactive_cutoff):\n",
    "    print('Select values for temperature bracket cutoff temperatures (degrees Celsius).')\n",
    "    plot_temp_bracket_diurnal(df_feature_diurnal_temperature_range.value,\n",
    "                       df_feature_diurnal_temperature_range.value,\n",
    "                       dataframe1,\n",
    "                       dataframe2,\n",
    "                       cold_days_interactive_cutoff,\n",
    "                       warm_days_interactive_cutoff,\n",
    "                       dataframe1_name.value,\n",
    "                       dataframe2_name.value)\n",
    "\n",
    "               \n",
    "               \n",
    "               "
   ]
  },
  {
   "cell_type": "markdown",
   "metadata": {
    "collapsed": false
   },
   "source": [
    "### Live Interactive Temperature Brackets with Percentiles"
   ]
  },
  {
   "cell_type": "code",
   "execution_count": 196,
   "metadata": {
    "collapsed": false
   },
   "outputs": [
    {
     "name": "stdout",
     "output_type": "stream",
     "text": [
      "Select values for temperature bracket cutoff percentiles.\n",
      "Cold days temperatue cutoff = 6 degrees C. Warm days temperature cutoff = 16 degrees C.\n",
      "Could not plot desired graph. Please try selecting a different feature.\n"
     ]
    }
   ],
   "source": [
    "\n",
    "cold_percentile_slider = FloatSlider(min = 0.01, max = 1.00, step = .005, value = .25)\n",
    "warm_percentile_slider = FloatSlider(min = 0.01, max = 1.00, step = .005, value = .75)\n",
    "\n",
    "@interact(cold_days_interactive_percentile = cold_percentile_slider,\n",
    "          warm_days_interactive_percentile = warm_percentile_slider,)\n",
    "\n",
    "def plot_interactive_temp_percentile_diurnal(cold_days_interactive_percentile, warm_days_interactive_percentile):\n",
    "    cold_cutoff = float(df_merged['Temperature_(degC)'].quantile([cold_days_interactive_percentile]))\n",
    "    warm_cutoff = float(df_merged['Temperature_(degC)'].quantile([warm_days_interactive_percentile]))\n",
    "    print('Select values for temperature bracket cutoff percentiles.')\n",
    "    print('Cold days temperatue cutoff = ' + str(int(cold_cutoff)) +\n",
    "          ' degrees C. Warm days temperature cutoff = ' + str(int(warm_cutoff)) + ' degrees C.')\n",
    "    plot_temp_bracket_diurnal(df_feature_diurnal_temperature_range.value,\n",
    "                       df_feature_diurnal_temperature_range.value,\n",
    "                       dataframe1,\n",
    "                       dataframe2,\n",
    "                       cold_cutoff,\n",
    "                       warm_cutoff,\n",
    "                       dataframe1_name.value,\n",
    "                       dataframe2_name.value)\n",
    "\n",
    "               "
   ]
  },
  {
   "cell_type": "code",
   "execution_count": 197,
   "metadata": {
    "collapsed": false
   },
   "outputs": [],
   "source": [
    "df_list = df_dict.keys()\n",
    "df_to_export = widgets.Dropdown(\n",
    "    options= df_list,\n",
    "    description='Choose a dataframe',\n",
    ")\n",
    "display(df_to_export)"
   ]
  },
  {
   "cell_type": "code",
   "execution_count": 198,
   "metadata": {
    "collapsed": true
   },
   "outputs": [],
   "source": [
    "csv_to_export_name = widgets.Text(\n",
    "    description='Filename of Exported CSV:',\n",
    "    value= 'test.csv',\n",
    ")\n",
    "csv_to_export_name"
   ]
  },
  {
   "cell_type": "code",
   "execution_count": 199,
   "metadata": {
    "collapsed": false
   },
   "outputs": [],
   "source": [
    "df_dict[df_to_export.value].to_csv(csv_to_export_name.value)"
   ]
  }
 ],
 "metadata": {
  "kernelspec": {
   "display_name": "Python 2",
   "language": "python",
   "name": "python2"
  },
  "language_info": {
   "codemirror_mode": {
    "name": "ipython",
    "version": 2
   },
   "file_extension": ".py",
   "mimetype": "text/x-python",
   "name": "python",
   "nbconvert_exporter": "python",
   "pygments_lexer": "ipython2",
   "version": "2.7.11"
  }
 },
 "nbformat": 4,
 "nbformat_minor": 0
}
