{
 "cells": [
  {
   "cell_type": "markdown",
   "metadata": {},
   "source": [
    "# Atmospheric Data Analysis Suite"
   ]
  },
  {
   "cell_type": "code",
   "execution_count": 316,
   "metadata": {
    "collapsed": false
   },
   "outputs": [],
   "source": [
    "# IMPORTS\n",
    "import pandas as pd\n",
    "%matplotlib inline\n",
    "sns.set_context(\"poster\")\n",
    "from IPython.display import display\n",
    "from ipywidgets import widgets\n",
    "from IPython.html.widgets import *\n",
    "from IPython.display import display\n",
    "import ipywidgets as widgets\n",
    "from ipywidgets import *\n",
    "import numpy as np\n",
    "from datetime import datetime\n",
    "import pandas as pd\n",
    "import matplotlib.pyplot as plt\n",
    "from matplotlib.ticker import ScalarFormatter, FormatStrFormatter\n",
    "import seaborn as sns\n",
    "import numpy as np\n",
    "import pprint as pp\n",
    "import scipy.stats as stats"
   ]
  },
  {
   "cell_type": "code",
   "execution_count": 317,
   "metadata": {
    "collapsed": true
   },
   "outputs": [],
   "source": [
    "# HELPER FUNCTIONS\n",
    "def clean_string(s):\n",
    "    return s.replace(\" \", \"\")\n"
   ]
  },
  {
   "cell_type": "markdown",
   "metadata": {},
   "source": [
    "### SELECT DATAFRAMES\n",
    "\n",
    "If the csv file with your data is not in this folder, please include the path to the correct folder. \n",
    "'/Doucments/data/mydata.csv'\n"
   ]
  },
  {
   "cell_type": "code",
   "execution_count": 318,
   "metadata": {
    "collapsed": true
   },
   "outputs": [],
   "source": [
    "df1Filename = widgets.Text(\n",
    "    description='.CSV File:',\n",
    "    value= 'Kwadela2013-winter.csv',\n",
    ")\n",
    "df1Filename"
   ]
  },
  {
   "cell_type": "code",
   "execution_count": 319,
   "metadata": {
    "collapsed": true
   },
   "outputs": [],
   "source": [
    "df2Filename = widgets.Text(\n",
    "    description='.CSV File:',\n",
    "    value= 'Kwadela2014-winter.csv',\n",
    ")\n",
    "df2Filename"
   ]
  },
  {
   "cell_type": "code",
   "execution_count": 320,
   "metadata": {
    "collapsed": false
   },
   "outputs": [],
   "source": [
    "dataframe1 = pd.read_csv(df1Filename.value)\n",
    "dataframe2 = pd.read_csv(df2Filename.value)"
   ]
  },
  {
   "cell_type": "code",
   "execution_count": 321,
   "metadata": {
    "collapsed": false
   },
   "outputs": [],
   "source": [
    "dataframe1_name = widgets.Text(\n",
    "    description='Dataframe 1 name:',\n",
    "    value= 'Dataframe1',\n",
    ")\n",
    "\n",
    "dataframe1_name"
   ]
  },
  {
   "cell_type": "code",
   "execution_count": 322,
   "metadata": {
    "collapsed": true
   },
   "outputs": [],
   "source": [
    "dataframe2_name = widgets.Text(\n",
    "    description='Dataframe 2 name:',\n",
    "    value= 'Dataframe2',\n",
    ")\n",
    "dataframe2_name"
   ]
  },
  {
   "cell_type": "markdown",
   "metadata": {},
   "source": [
    "### SELECT FEATURES\n",
    "Choose the columns from dataframe 1 that you would like to analyze.\n",
    "Check boxes to the right of the column you wish to select."
   ]
  },
  {
   "cell_type": "code",
   "execution_count": 323,
   "metadata": {
    "collapsed": true
   },
   "outputs": [],
   "source": [
    "default_select = ['Date', 'Hour', 'Minute', 'Second', 'Year', 'Dusttraks_(mg/m3)','PM10_(ug/m3)','PM2.5_(ug/m3)','SO2_(ppb)',\n",
    "              'CO_(ppm)','NO_(ppb)','NO2_(ppb)','Hour', 'Minute','Day','Month',\n",
    "              'Year','Temperature_(degC)','Wind_Speed_(m/s)']\n",
    "kitchen_list = [column for column in dataframe1 if '-K' in column] #KwaDela"
   ]
  },
  {
   "cell_type": "code",
   "execution_count": 324,
   "metadata": {
    "collapsed": false
   },
   "outputs": [],
   "source": [
    "cb_cont.overflow_x = 'scroll'\n",
    "checkboxes = []\n",
    "for column in dataframe1:\n",
    "    if column in dataframe2:\n",
    "        if column in default_select:\n",
    "            checkboxes.append(\\\n",
    "                 widgets.Checkbox(description = clean_string('%s') %(column), \\\n",
    "                             value=True, width=50))\n",
    "        elif column in kitchen_list: #To be removed: KwaDela specific\n",
    "            checkboxes.append(\\\n",
    "                 widgets.Checkbox(description = clean_string('%s') %(column), \\\n",
    "                             value=True, width=50))\n",
    "        else:\n",
    "            checkboxes.append(\\\n",
    "                 widgets.Checkbox(description = clean_string('%s') %(column), \\\n",
    "                             value=False, width=50))\n",
    "cb_cont.children=[i for i in checkboxes]\n",
    "display(cb_cont)\n",
    "\n",
    "\n"
   ]
  },
  {
   "cell_type": "code",
   "execution_count": 325,
   "metadata": {
    "collapsed": false
   },
   "outputs": [
    {
     "name": "stdout",
     "output_type": "stream",
     "text": [
      "Date\n",
      "Wind_Speed_(m/s)\n",
      "Temperature_(degC)\n",
      "SO2_(ppb)\n",
      "NO_(ppb)\n",
      "NO2_(ppb)\n",
      "PM10_(ug/m3)\n",
      "PM2.5_(ug/m3)\n",
      "CO_(ppm)\n",
      "H01-K-E\n",
      "H02-K-N\n",
      "H03-K-S\n",
      "H04-K-S\n",
      "H05-K-N\n",
      "H06-K-N\n",
      "H07-K-S\n",
      "H10-K-N\n",
      "Dusttraks_(mg/m3)\n"
     ]
    }
   ],
   "source": [
    "df1_columns = []\n",
    "for checkbox in cb_cont.children:\n",
    "    if checkbox.value:\n",
    "        df1_columns.append(checkbox.description)\n",
    "        print checkbox.description\n",
    "dataframe1 = dataframe1[df1_columns]"
   ]
  },
  {
   "cell_type": "code",
   "execution_count": 326,
   "metadata": {
    "collapsed": true
   },
   "outputs": [],
   "source": [
    "# AUTOMATICALLY SELECTS BOXES THAT APPEAR IN BOTH DATAFRAMES AND WERE CHOSEN FOR DATAFRAME 1.\n",
    "checkboxes = []\n",
    "for column in dataframe2:\n",
    "    if column in df1_columns:\n",
    "        checkboxes.append(\\\n",
    "             widgets.Checkbox(description = clean_string('%s') %(column), \\\n",
    "                         value=True, width=50))\n",
    "    elif column in default_select:\n",
    "        checkboxes.append(\\\n",
    "             widgets.Checkbox(description = clean_string('%s') %(column), \\\n",
    "                         value=True, width=50))\n",
    "    else:\n",
    "        checkboxes.append(\\\n",
    "             widgets.Checkbox(description = clean_string('%s') %(column), \\\n",
    "                         value=False, width=50))\n",
    "cb_cont.children=[i for i in checkboxes]\n",
    "display(cb_cont)\n",
    "\n"
   ]
  },
  {
   "cell_type": "code",
   "execution_count": 327,
   "metadata": {
    "collapsed": false
   },
   "outputs": [
    {
     "name": "stdout",
     "output_type": "stream",
     "text": [
      "Date\n",
      "Hour\n",
      "Minute\n",
      "Second\n",
      "Day\n",
      "Month\n",
      "Year\n",
      "Wind_Speed_(m/s)\n",
      "Temperature_(degC)\n",
      "SO2_(ppb)\n",
      "NO_(ppb)\n",
      "NO2_(ppb)\n",
      "PM10_(ug/m3)\n",
      "PM2.5_(ug/m3)\n",
      "CO_(ppm)\n",
      "H01-K-E\n",
      "H02-K-N\n",
      "H03-K-S\n",
      "H04-K-S\n",
      "H05-K-N\n",
      "H06-K-N\n",
      "H07-K-S\n",
      "H10-K-N\n",
      "Dusttraks_(mg/m3)\n"
     ]
    }
   ],
   "source": [
    "df2_columns = []\n",
    "for checkbox in cb_cont.children:\n",
    "    if checkbox.value:\n",
    "        df2_columns.append(checkbox.description)\n",
    "        print checkbox.description\n",
    "        \n",
    "dataframe2 = dataframe2[df2_columns]"
   ]
  },
  {
   "cell_type": "code",
   "execution_count": 328,
   "metadata": {
    "collapsed": false
   },
   "outputs": [
    {
     "name": "stdout",
     "output_type": "stream",
     "text": [
      "20\n"
     ]
    }
   ],
   "source": [
    "# EXPERIMENT TO BE REMOVED\n",
    "def f(x):\n",
    "    print(x)\n",
    "interact(f, x=10)"
   ]
  },
  {
   "cell_type": "code",
   "execution_count": 329,
   "metadata": {
    "collapsed": false
   },
   "outputs": [],
   "source": [
    "# TEST\n",
    "house_list = [column for column in dataframe1 if '-K' in column]\n",
    "home1 = widgets.Dropdown(\n",
    "    options= house_list,\n",
    "    description='Choose a home from ' + dataframe1_name.value,\n",
    ")\n",
    "display(home1)"
   ]
  },
  {
   "cell_type": "code",
   "execution_count": 330,
   "metadata": {
    "collapsed": true
   },
   "outputs": [],
   "source": [
    "house_list = [column for column in dataframe2 if '-K' in column]\n",
    "home2 = widgets.Dropdown(\n",
    "    options= house_list,\n",
    "    description='Choose a home from ' + dataframe2_name.value,\n",
    ")\n",
    "display(home2)"
   ]
  },
  {
   "cell_type": "code",
   "execution_count": 331,
   "metadata": {
    "collapsed": false
   },
   "outputs": [
    {
     "name": "stdout",
     "output_type": "stream",
     "text": [
      "H01-K-E\n",
      "H01-K-E\n"
     ]
    }
   ],
   "source": [
    "print(home1.value)\n",
    "print(home2.value)"
   ]
  },
  {
   "cell_type": "markdown",
   "metadata": {},
   "source": [
    "### DATAFRAME 1"
   ]
  },
  {
   "cell_type": "code",
   "execution_count": 332,
   "metadata": {
    "collapsed": false
   },
   "outputs": [
    {
     "data": {
      "text/html": [
       "<div>\n",
       "<table border=\"1\" class=\"dataframe\">\n",
       "  <thead>\n",
       "    <tr style=\"text-align: right;\">\n",
       "      <th></th>\n",
       "      <th>Date</th>\n",
       "      <th>Wind_Speed_(m/s)</th>\n",
       "      <th>Temperature_(degC)</th>\n",
       "      <th>SO2_(ppb)</th>\n",
       "      <th>NO_(ppb)</th>\n",
       "      <th>NO2_(ppb)</th>\n",
       "      <th>PM10_(ug/m3)</th>\n",
       "      <th>PM2.5_(ug/m3)</th>\n",
       "      <th>CO_(ppm)</th>\n",
       "      <th>H01-K-E</th>\n",
       "      <th>H02-K-N</th>\n",
       "      <th>H03-K-S</th>\n",
       "      <th>H04-K-S</th>\n",
       "      <th>H05-K-N</th>\n",
       "      <th>H06-K-N</th>\n",
       "      <th>H07-K-S</th>\n",
       "      <th>H10-K-N</th>\n",
       "      <th>Dusttraks_(mg/m3)</th>\n",
       "    </tr>\n",
       "  </thead>\n",
       "  <tbody>\n",
       "    <tr>\n",
       "      <th>0</th>\n",
       "      <td>7/2/13 12:00</td>\n",
       "      <td>NaN</td>\n",
       "      <td>NaN</td>\n",
       "      <td>NaN</td>\n",
       "      <td>NaN</td>\n",
       "      <td>NaN</td>\n",
       "      <td>NaN</td>\n",
       "      <td>NaN</td>\n",
       "      <td>NaN</td>\n",
       "      <td>NaN</td>\n",
       "      <td>NaN</td>\n",
       "      <td>NaN</td>\n",
       "      <td>NaN</td>\n",
       "      <td>NaN</td>\n",
       "      <td>NaN</td>\n",
       "      <td>NaN</td>\n",
       "      <td>NaN</td>\n",
       "      <td>NaN</td>\n",
       "    </tr>\n",
       "    <tr>\n",
       "      <th>1</th>\n",
       "      <td>7/2/13 12:01</td>\n",
       "      <td>NaN</td>\n",
       "      <td>NaN</td>\n",
       "      <td>NaN</td>\n",
       "      <td>NaN</td>\n",
       "      <td>NaN</td>\n",
       "      <td>NaN</td>\n",
       "      <td>NaN</td>\n",
       "      <td>NaN</td>\n",
       "      <td>NaN</td>\n",
       "      <td>NaN</td>\n",
       "      <td>NaN</td>\n",
       "      <td>NaN</td>\n",
       "      <td>NaN</td>\n",
       "      <td>NaN</td>\n",
       "      <td>NaN</td>\n",
       "      <td>NaN</td>\n",
       "      <td>NaN</td>\n",
       "    </tr>\n",
       "    <tr>\n",
       "      <th>2</th>\n",
       "      <td>7/2/13 12:02</td>\n",
       "      <td>NaN</td>\n",
       "      <td>NaN</td>\n",
       "      <td>NaN</td>\n",
       "      <td>NaN</td>\n",
       "      <td>NaN</td>\n",
       "      <td>NaN</td>\n",
       "      <td>NaN</td>\n",
       "      <td>NaN</td>\n",
       "      <td>NaN</td>\n",
       "      <td>NaN</td>\n",
       "      <td>NaN</td>\n",
       "      <td>NaN</td>\n",
       "      <td>NaN</td>\n",
       "      <td>NaN</td>\n",
       "      <td>NaN</td>\n",
       "      <td>NaN</td>\n",
       "      <td>NaN</td>\n",
       "    </tr>\n",
       "    <tr>\n",
       "      <th>3</th>\n",
       "      <td>7/2/13 12:03</td>\n",
       "      <td>NaN</td>\n",
       "      <td>NaN</td>\n",
       "      <td>NaN</td>\n",
       "      <td>NaN</td>\n",
       "      <td>NaN</td>\n",
       "      <td>NaN</td>\n",
       "      <td>NaN</td>\n",
       "      <td>NaN</td>\n",
       "      <td>NaN</td>\n",
       "      <td>NaN</td>\n",
       "      <td>NaN</td>\n",
       "      <td>NaN</td>\n",
       "      <td>NaN</td>\n",
       "      <td>NaN</td>\n",
       "      <td>NaN</td>\n",
       "      <td>NaN</td>\n",
       "      <td>NaN</td>\n",
       "    </tr>\n",
       "    <tr>\n",
       "      <th>4</th>\n",
       "      <td>7/2/13 12:04</td>\n",
       "      <td>NaN</td>\n",
       "      <td>NaN</td>\n",
       "      <td>NaN</td>\n",
       "      <td>NaN</td>\n",
       "      <td>NaN</td>\n",
       "      <td>NaN</td>\n",
       "      <td>NaN</td>\n",
       "      <td>NaN</td>\n",
       "      <td>NaN</td>\n",
       "      <td>NaN</td>\n",
       "      <td>NaN</td>\n",
       "      <td>NaN</td>\n",
       "      <td>NaN</td>\n",
       "      <td>NaN</td>\n",
       "      <td>NaN</td>\n",
       "      <td>NaN</td>\n",
       "      <td>NaN</td>\n",
       "    </tr>\n",
       "  </tbody>\n",
       "</table>\n",
       "</div>"
      ],
      "text/plain": [
       "           Date  Wind_Speed_(m/s)  Temperature_(degC)  SO2_(ppb)  NO_(ppb)  \\\n",
       "0  7/2/13 12:00               NaN                 NaN        NaN       NaN   \n",
       "1  7/2/13 12:01               NaN                 NaN        NaN       NaN   \n",
       "2  7/2/13 12:02               NaN                 NaN        NaN       NaN   \n",
       "3  7/2/13 12:03               NaN                 NaN        NaN       NaN   \n",
       "4  7/2/13 12:04               NaN                 NaN        NaN       NaN   \n",
       "\n",
       "   NO2_(ppb)  PM10_(ug/m3)  PM2.5_(ug/m3)  CO_(ppm)  H01-K-E  H02-K-N  \\\n",
       "0        NaN           NaN            NaN       NaN      NaN      NaN   \n",
       "1        NaN           NaN            NaN       NaN      NaN      NaN   \n",
       "2        NaN           NaN            NaN       NaN      NaN      NaN   \n",
       "3        NaN           NaN            NaN       NaN      NaN      NaN   \n",
       "4        NaN           NaN            NaN       NaN      NaN      NaN   \n",
       "\n",
       "   H03-K-S  H04-K-S  H05-K-N  H06-K-N  H07-K-S  H10-K-N  Dusttraks_(mg/m3)  \n",
       "0      NaN      NaN      NaN      NaN      NaN      NaN                NaN  \n",
       "1      NaN      NaN      NaN      NaN      NaN      NaN                NaN  \n",
       "2      NaN      NaN      NaN      NaN      NaN      NaN                NaN  \n",
       "3      NaN      NaN      NaN      NaN      NaN      NaN                NaN  \n",
       "4      NaN      NaN      NaN      NaN      NaN      NaN                NaN  "
      ]
     },
     "execution_count": 332,
     "metadata": {},
     "output_type": "execute_result"
    }
   ],
   "source": [
    "dataframe1.head()"
   ]
  },
  {
   "cell_type": "markdown",
   "metadata": {},
   "source": [
    "### DATAFRAME 2"
   ]
  },
  {
   "cell_type": "code",
   "execution_count": 333,
   "metadata": {
    "collapsed": false
   },
   "outputs": [
    {
     "data": {
      "text/html": [
       "<div>\n",
       "<table border=\"1\" class=\"dataframe\">\n",
       "  <thead>\n",
       "    <tr style=\"text-align: right;\">\n",
       "      <th></th>\n",
       "      <th>Date</th>\n",
       "      <th>Hour</th>\n",
       "      <th>Minute</th>\n",
       "      <th>Second</th>\n",
       "      <th>Day</th>\n",
       "      <th>Month</th>\n",
       "      <th>Year</th>\n",
       "      <th>Wind_Speed_(m/s)</th>\n",
       "      <th>Temperature_(degC)</th>\n",
       "      <th>SO2_(ppb)</th>\n",
       "      <th>...</th>\n",
       "      <th>CO_(ppm)</th>\n",
       "      <th>H01-K-E</th>\n",
       "      <th>H02-K-N</th>\n",
       "      <th>H03-K-S</th>\n",
       "      <th>H04-K-S</th>\n",
       "      <th>H05-K-N</th>\n",
       "      <th>H06-K-N</th>\n",
       "      <th>H07-K-S</th>\n",
       "      <th>H10-K-N</th>\n",
       "      <th>Dusttraks_(mg/m3)</th>\n",
       "    </tr>\n",
       "  </thead>\n",
       "  <tbody>\n",
       "    <tr>\n",
       "      <th>0</th>\n",
       "      <td>7/11/14 12:00</td>\n",
       "      <td>12</td>\n",
       "      <td>0</td>\n",
       "      <td>0</td>\n",
       "      <td>11</td>\n",
       "      <td>7</td>\n",
       "      <td>2014</td>\n",
       "      <td>4.458</td>\n",
       "      <td>11.910</td>\n",
       "      <td>NaN</td>\n",
       "      <td>...</td>\n",
       "      <td>0.193</td>\n",
       "      <td>22.3</td>\n",
       "      <td>15.4</td>\n",
       "      <td>13.1</td>\n",
       "      <td>13.8</td>\n",
       "      <td>15.4</td>\n",
       "      <td>11.7</td>\n",
       "      <td>15.3</td>\n",
       "      <td>17.1</td>\n",
       "      <td>0.043</td>\n",
       "    </tr>\n",
       "    <tr>\n",
       "      <th>1</th>\n",
       "      <td>7/11/14 12:01</td>\n",
       "      <td>12</td>\n",
       "      <td>1</td>\n",
       "      <td>0</td>\n",
       "      <td>11</td>\n",
       "      <td>7</td>\n",
       "      <td>2014</td>\n",
       "      <td>4.887</td>\n",
       "      <td>11.944</td>\n",
       "      <td>NaN</td>\n",
       "      <td>...</td>\n",
       "      <td>0.163</td>\n",
       "      <td>22.9</td>\n",
       "      <td>15.3</td>\n",
       "      <td>13.1</td>\n",
       "      <td>13.8</td>\n",
       "      <td>15.4</td>\n",
       "      <td>11.7</td>\n",
       "      <td>15.4</td>\n",
       "      <td>17.2</td>\n",
       "      <td>0.041</td>\n",
       "    </tr>\n",
       "    <tr>\n",
       "      <th>2</th>\n",
       "      <td>7/11/14 12:02</td>\n",
       "      <td>12</td>\n",
       "      <td>2</td>\n",
       "      <td>0</td>\n",
       "      <td>11</td>\n",
       "      <td>7</td>\n",
       "      <td>2014</td>\n",
       "      <td>2.988</td>\n",
       "      <td>11.860</td>\n",
       "      <td>NaN</td>\n",
       "      <td>...</td>\n",
       "      <td>0.188</td>\n",
       "      <td>23.5</td>\n",
       "      <td>15.3</td>\n",
       "      <td>13.0</td>\n",
       "      <td>13.8</td>\n",
       "      <td>15.5</td>\n",
       "      <td>11.8</td>\n",
       "      <td>15.4</td>\n",
       "      <td>17.3</td>\n",
       "      <td>0.042</td>\n",
       "    </tr>\n",
       "    <tr>\n",
       "      <th>3</th>\n",
       "      <td>7/11/14 12:03</td>\n",
       "      <td>12</td>\n",
       "      <td>3</td>\n",
       "      <td>0</td>\n",
       "      <td>11</td>\n",
       "      <td>7</td>\n",
       "      <td>2014</td>\n",
       "      <td>5.413</td>\n",
       "      <td>12.028</td>\n",
       "      <td>NaN</td>\n",
       "      <td>...</td>\n",
       "      <td>0.206</td>\n",
       "      <td>24.1</td>\n",
       "      <td>15.2</td>\n",
       "      <td>13.1</td>\n",
       "      <td>13.7</td>\n",
       "      <td>15.5</td>\n",
       "      <td>11.8</td>\n",
       "      <td>15.5</td>\n",
       "      <td>17.4</td>\n",
       "      <td>0.044</td>\n",
       "    </tr>\n",
       "    <tr>\n",
       "      <th>4</th>\n",
       "      <td>7/11/14 12:04</td>\n",
       "      <td>12</td>\n",
       "      <td>4</td>\n",
       "      <td>0</td>\n",
       "      <td>11</td>\n",
       "      <td>7</td>\n",
       "      <td>2014</td>\n",
       "      <td>6.788</td>\n",
       "      <td>12.310</td>\n",
       "      <td>NaN</td>\n",
       "      <td>...</td>\n",
       "      <td>0.240</td>\n",
       "      <td>24.7</td>\n",
       "      <td>15.2</td>\n",
       "      <td>13.1</td>\n",
       "      <td>13.7</td>\n",
       "      <td>15.5</td>\n",
       "      <td>11.8</td>\n",
       "      <td>15.5</td>\n",
       "      <td>17.5</td>\n",
       "      <td>0.043</td>\n",
       "    </tr>\n",
       "  </tbody>\n",
       "</table>\n",
       "<p>5 rows × 24 columns</p>\n",
       "</div>"
      ],
      "text/plain": [
       "            Date  Hour  Minute  Second  Day  Month  Year  Wind_Speed_(m/s)  \\\n",
       "0  7/11/14 12:00    12       0       0   11      7  2014             4.458   \n",
       "1  7/11/14 12:01    12       1       0   11      7  2014             4.887   \n",
       "2  7/11/14 12:02    12       2       0   11      7  2014             2.988   \n",
       "3  7/11/14 12:03    12       3       0   11      7  2014             5.413   \n",
       "4  7/11/14 12:04    12       4       0   11      7  2014             6.788   \n",
       "\n",
       "   Temperature_(degC)  SO2_(ppb)        ...          CO_(ppm)  H01-K-E  \\\n",
       "0              11.910        NaN        ...             0.193     22.3   \n",
       "1              11.944        NaN        ...             0.163     22.9   \n",
       "2              11.860        NaN        ...             0.188     23.5   \n",
       "3              12.028        NaN        ...             0.206     24.1   \n",
       "4              12.310        NaN        ...             0.240     24.7   \n",
       "\n",
       "   H02-K-N  H03-K-S  H04-K-S  H05-K-N  H06-K-N  H07-K-S  H10-K-N  \\\n",
       "0     15.4     13.1     13.8     15.4     11.7     15.3     17.1   \n",
       "1     15.3     13.1     13.8     15.4     11.7     15.4     17.2   \n",
       "2     15.3     13.0     13.8     15.5     11.8     15.4     17.3   \n",
       "3     15.2     13.1     13.7     15.5     11.8     15.5     17.4   \n",
       "4     15.2     13.1     13.7     15.5     11.8     15.5     17.5   \n",
       "\n",
       "   Dusttraks_(mg/m3)  \n",
       "0              0.043  \n",
       "1              0.041  \n",
       "2              0.042  \n",
       "3              0.044  \n",
       "4              0.043  \n",
       "\n",
       "[5 rows x 24 columns]"
      ]
     },
     "execution_count": 333,
     "metadata": {},
     "output_type": "execute_result"
    }
   ],
   "source": [
    "dataframe2.head()"
   ]
  },
  {
   "cell_type": "markdown",
   "metadata": {},
   "source": [
    "### SOME HELPER FUNCTIONS TO BE USED IN ANALYSIS"
   ]
  },
  {
   "cell_type": "code",
   "execution_count": 334,
   "metadata": {
    "collapsed": true
   },
   "outputs": [],
   "source": [
    "def get_datetime(s):\n",
    "    \"\"\"strips date and time from the already existing date column\"\"\"\n",
    "    dt = datetime.strptime(s, \"%m/%d/%y %H:%M\")\n",
    "    return dt\n",
    "\n",
    "def daysSinceStart(df):\n",
    "    \"\"\"get time since epoch using a series for month and day\n",
    "    takes in dataframe and returns the dataframe with an added column\n",
    "    for days since the beginning of data collection\"\"\"\n",
    "    \n",
    "    dayArray = np.array(df.Day)\n",
    "    monthArray = np.array(df.Month)\n",
    "    \n",
    "    runningDays = []\n",
    "    for day, month in zip(dayArray, monthArray):\n",
    "        if month == 7:\n",
    "            total_days = 0\n",
    "            #do nothing, append the normal day\n",
    "        elif month == 8:\n",
    "            total_days = 31 \n",
    "        elif month == 9:\n",
    "            total_days = 61\n",
    "        else:\n",
    "            raise ValueError \n",
    "        total_days = total_days + day\n",
    "        #print'tot days:', total_days, month, day\n",
    "        runningDays.append(total_days)\n",
    "    df['DayCount'] = pd.Series(runningDays, index = df.index)\n",
    "    return df\n",
    "\n",
    "\n",
    "#Daily Average Temperature\n",
    "\n",
    "def compute_avg_vals(df):\n",
    "    \"\"\"computes average values of each day in a dataframe\n",
    "    must apply to a groupby object where df is grouped by days\n",
    "    returns a dataframe with several new, added columns \"\"\"\n",
    "    \n",
    "    df['DailyAverageTemp'] = df['Temperature_(degC)'].mean()\n",
    "    #df['DailyAverageTempHouse'] = df['AvgHouse'].mean()\n",
    "    #computes avg indoor temp: takes in a dataframe and returns a dataframe with a new column\n",
    "    #Removed: df['H07-K-S'].mean() because it's mostly just Nans\n",
    "    #df['AvgHouse'] = (df['H01-K-E'].mean()+ df['H02-K-N'].mean() + df['H03-K-S'].mean()+ df['H04-K-S'].mean())/4\n",
    "    #df['DailyAvgHouse']= df['AvgHouse'].mean()\n",
    "    #Dusttraks/PM4\n",
    "    df['DailyAvgDusttraks'] = df['Dusttraks_(mg/m3)'].mean()\n",
    "    df['DailyAvgPM4'] = df['PM4_(ug/m3)'].mean()\n",
    "    df['DailyAvgWind'] = df['Wind_Speed_(m/s)'].mean()\n",
    "    return df\n",
    "\n",
    "def compute_avg_house13(df):\n",
    "    \"\"\"tailored to compute the average indoor house temperature of 2013\"\"\"\n",
    "    df['AvgHouse'] = (df['H01-K-E']+ df['H02-K-N']+ df['H03-K-S']+ df['H04-K-S']\n",
    "                      + df['H05-K-N']+df['H06-K-N'] + df['H10-K-N']\n",
    "                      +df['H11-K-X']+ df['H12-K-N'] + df['H15-K-S'] +df['H17-K-N'] \n",
    "                      + df['H18-K-S'] + df['H20-K-S']\n",
    "                      )/13\n",
    "    return df\n",
    "\n",
    "def compute_avg_house14(df):\n",
    "    \"\"\"tailored to compute the avg indoor house temp for 2014\"\"\"\n",
    "    df['AvgHouse'] = (df['H01-K-E']+ df['H02-K-N']+ df['H03-K-S']+ df['H04-K-S']\n",
    "                      + df['H05-K-N']+df['H06-K-N'] + df['H10-K-N']\n",
    "                      +df['H11-K-N'] + df['H15-K-N']+df['H16-K-N'] +df['H17-K-S'] \n",
    "                      + df['H18-K-N']+df['H19-K-W'] + df['H22-K-S']\n",
    "                      )/14\n",
    "    return df\n",
    "\n",
    "def tempdifference(df):\n",
    "    \"\"\"computes a column of the difference in indoor and outdoor temperature, AvgHouse and Temperature_(degC)\n",
    "    df: any given dataframe\n",
    "    returns a dataframe with a new column\"\"\"\n",
    "    df['tempdifference'] = df['AvgHouse']-df['Temperature_(degC)']\n",
    "    return df\n",
    "\n",
    "\n",
    "def abcdeTimeDataframes(df):\n",
    "    \"\"\"splits a dataframe into a series of times for differently characterized burning periods of the day\n",
    "    df: timeseries dataframe to be split into specified time ranges\n",
    "    returns: 4 different dataframes for early morning, breakfast, afternoon, dinner, and evening times\n",
    "    \"\"\"\n",
    "    #DATAFRAMES FOR GIVEN TIME RANGES\n",
    "    dfA = df[df['Hour'] < 5]\n",
    "    dfB = df[df['Hour'] > 4]\n",
    "    dfB = dfB[dfB['Hour'] <= 9]\n",
    "    dfC = df[df['Hour'] >9]\n",
    "    dfC = dfC[dfC['Hour'] <= 14]\n",
    "    dfD = df[df['Hour'] >14]\n",
    "    dfD = dfD[dfD['Hour'] <= 21]\n",
    "    dfE = df[df['Hour'] > 21]\n",
    "    res = [dfA, dfB, dfC, dfD, dfE]\n",
    "    return res\n",
    "\n",
    "\n",
    "#GENERAL FUNCTION FOR DIURNAL DATA\n",
    "\n",
    "def getmeanfeatureforhour(hourdf, feature):\n",
    "    \"\"\"hourdf: dataframe specific to one hour of data\n",
    "    feature: given header to be explored (temperature, PMx, etc)\n",
    "    returns: dataframe with a new mean feature per hour\"\"\"\n",
    "    \n",
    "    res = hourdf[feature].mean()\n",
    "    return res\n",
    "\n",
    "def featurediurnaldata(df, feature):\n",
    "    \"\"\"breaks down a given dataframe by feature into one dataframe per hour (24) for plotting of a dirunal profile\n",
    "    df: dataframe to be broken down\n",
    "    feature: header to be broken down\"\"\"\n",
    "    #feature for example could be a temperature or pollutant concentration\n",
    "    dfhour0 = df[df['Hour'] == 0]\n",
    "    feat0 = getmeanfeatureforhour(dfhour0, feature)\n",
    "    dfhour1 = df[df['Hour'] == 1]\n",
    "    feat1= getmeanfeatureforhour(dfhour1, feature)\n",
    "    dfhour2 = df[df['Hour'] == 2]\n",
    "    feat2 = getmeanfeatureforhour(dfhour2, feature)\n",
    "    dfhour3 = df[df['Hour'] == 3]\n",
    "    feat3 = getmeanfeatureforhour(dfhour3, feature)\n",
    "    dfhour4 = df[df['Hour'] == 4]\n",
    "    feat4 = getmeanfeatureforhour(dfhour4, feature)\n",
    "    dfhour5 = df[df['Hour'] == 5]\n",
    "    feat5 = getmeanfeatureforhour(dfhour5, feature)\n",
    "    dfhour6 = df[df['Hour'] == 6]\n",
    "    feat6 = getmeanfeatureforhour(dfhour6, feature)\n",
    "    dfhour7 = df[df['Hour'] == 7]\n",
    "    feat7 = getmeanfeatureforhour(dfhour7, feature)\n",
    "    dfhour8 = df[df['Hour'] == 8]\n",
    "    feat8 = getmeanfeatureforhour(dfhour8, feature)\n",
    "    dfhour9 = df[df['Hour'] == 9]\n",
    "    feat9 = getmeanfeatureforhour(dfhour9, feature)\n",
    "    dfhour10 = df[df['Hour'] == 10]\n",
    "    feat10 = getmeanfeatureforhour(dfhour10, feature)\n",
    "    dfhour11 = df[df['Hour'] == 11]\n",
    "    feat11 = getmeanfeatureforhour(dfhour11, feature)\n",
    "    dfhour12 = df[df['Hour'] == 12]\n",
    "    feat12 = getmeanfeatureforhour(dfhour12, feature)\n",
    "    dfhour13 = df[df['Hour'] == 13]\n",
    "    feat13 = getmeanfeatureforhour(dfhour13, feature)\n",
    "    dfhour14 = df[df['Hour'] == 14]\n",
    "    feat14 = getmeanfeatureforhour(dfhour14, feature)\n",
    "    dfhour15 = df[df['Hour'] == 15]\n",
    "    feat15 = getmeanfeatureforhour(dfhour15, feature)\n",
    "    dfhour16 = df[df['Hour'] == 16]\n",
    "    feat16 = getmeanfeatureforhour(dfhour16, feature)\n",
    "    dfhour17 = df[df['Hour'] == 17]\n",
    "    feat17 = getmeanfeatureforhour(dfhour17, feature)\n",
    "    dfhour18 = df[df['Hour'] == 18]\n",
    "    feat18 = getmeanfeatureforhour(dfhour18, feature)\n",
    "    dfhour19 = df[df['Hour'] == 19]\n",
    "    feat19 = getmeanfeatureforhour(dfhour19, feature)\n",
    "    dfhour20 = df[df['Hour'] == 20]\n",
    "    feat20 = getmeanfeatureforhour(dfhour20, feature)\n",
    "    dfhour21 = df[df['Hour'] == 21]\n",
    "    feat21 = getmeanfeatureforhour(dfhour21, feature)\n",
    "    dfhour22 = df[df['Hour'] == 22]\n",
    "    feat22 = getmeanfeatureforhour(dfhour22, feature)\n",
    "    dfhour23 = df[df['Hour'] == 23]\n",
    "    feat23 = getmeanfeatureforhour(dfhour23, feature)\n",
    "\n",
    "    featlist = [feat0,feat1,feat2,feat3,feat4,feat5,feat6,feat7,feat8,feat9,feat10,feat11,feat12,feat13,feat14,feat15,feat16,feat17,feat18,feat19,feat20,feat21,feat22,feat23]\n",
    "    return featlist\n",
    "\n",
    "\n",
    "\n",
    "def preprocess(df):\n",
    "    \"\"\"get all mean features and recodes for plotting and stats analysis\n",
    "    apply correction factor and unit tweaking where appropriate\n",
    "    returns: a copy of the original df with added hour, day,month, year, daycount\n",
    "    tempdifferent, and PM4 counts\"\"\"\n",
    "\n",
    "    res = df.copy()\n",
    "    if hasattr(res, 'Date'):\n",
    "        datetimes = res.Date.apply(get_datetime)\n",
    "        res['Hour'] = datetimes.apply(lambda dt: dt.hour)\n",
    "        res['Day'] = datetimes.apply(lambda dt: dt.day)\n",
    "        res['Month'] = datetimes.apply(lambda dt: dt.month)\n",
    "        res['Year'] = datetimes.apply(lambda dt: dt.year)\n",
    "    res = daysSinceStart(res)\n",
    "    res['Dusttraks_(mg/m3)']= res['Dusttraks_(mg/m3)']*0.14\n",
    "    res['PM4_(ug/m3)']=res['Dusttraks_(mg/m3)']*1000\n",
    "    grouped = res.groupby('DayCount')\n",
    "    res = grouped.apply(compute_avg_vals)\n",
    "    #res= tempdifference(res)\n",
    "    return res\n",
    "\n",
    "\n"
   ]
  },
  {
   "cell_type": "markdown",
   "metadata": {},
   "source": [
    "### SOME DATAFRAME CLEANING"
   ]
  },
  {
   "cell_type": "code",
   "execution_count": 335,
   "metadata": {
    "collapsed": false
   },
   "outputs": [],
   "source": [
    "dataframe1 = preprocess(dataframe1)\n",
    "dataframe2 = preprocess(dataframe2)"
   ]
  },
  {
   "cell_type": "markdown",
   "metadata": {},
   "source": [
    "## COMPARING TWO DATASETS"
   ]
  },
  {
   "cell_type": "markdown",
   "metadata": {},
   "source": [
    "CHOOSE VAL"
   ]
  },
  {
   "cell_type": "code",
   "execution_count": 336,
   "metadata": {
    "collapsed": true
   },
   "outputs": [],
   "source": [
    "df1_columns = [column for column in dataframe1]\n",
    "df_feature_x = widgets.Dropdown(\n",
    "    options= df1_columns,\n",
    "    description='Choose x feature:'\n",
    ")\n",
    "display(df_feature_x)"
   ]
  },
  {
   "cell_type": "code",
   "execution_count": 337,
   "metadata": {
    "collapsed": true
   },
   "outputs": [],
   "source": [
    "df1_columns = [column for column in dataframe1]\n",
    "df_feature_y = widgets.Dropdown(\n",
    "    options= df1_columns,\n",
    "    description='Choose y feature:'\n",
    ")\n",
    "display(df_feature_y)"
   ]
  },
  {
   "cell_type": "code",
   "execution_count": 338,
   "metadata": {
    "collapsed": false
   },
   "outputs": [
    {
     "data": {
      "image/png": "[encoded data removed]",
      "text/plain": [
       "<matplotlib.figure.Figure at 0x7f3a74ddd890>"
      ]
     },
     "metadata": {},
     "output_type": "display_data"
    }
   ],
   "source": [
    "plt.plot(dataframe1[df1_feature_x.value], dataframe1[df1_feature_y.value])\n",
    "plt.plot(dataframe2[df1_feature_x.value], dataframe2[df1_feature_y.value])\n",
    "plt.xlabel(df1_feature_x.value + ' (Need units)')\n",
    "plt.ylabel(df1_feature_y.value + ' (Need units)')\n",
    "plt.title(dataframe1_name.value + ' vs ' + dataframe2_name.value)\n",
    "plt.show()"
   ]
  },
  {
   "cell_type": "code",
   "execution_count": null,
   "metadata": {
    "collapsed": true
   },
   "outputs": [],
   "source": []
  },
  {
   "cell_type": "markdown",
   "metadata": {},
   "source": [
    "## COMPARE TWO DATASETS DIURNAL"
   ]
  },
  {
   "cell_type": "code",
   "execution_count": 340,
   "metadata": {
    "collapsed": true
   },
   "outputs": [],
   "source": [
    "#GENERAL FUNCTION FOR DIURNAL DATA\n",
    "\n",
    "def getmeanfeatureforhour(hourdf, feature):\n",
    "    \"\"\"hourdf: dataframe specific to one hour of data\n",
    "    feature: given header to be explored (temperature, PMx, etc)\n",
    "    returns: dataframe with a new mean feature per hour\"\"\"\n",
    "    \n",
    "    res = hourdf[feature].mean()\n",
    "    return res\n",
    "\n",
    "def featurediurnaldata(df, feature):\n",
    "    \"\"\"breaks down a given dataframe by feature into one dataframe per hour (24) for plotting of a dirunal profile\n",
    "    df: dataframe to be broken down\n",
    "    feature: header to be broken down\"\"\"\n",
    "    #feature for example could be a temperature or pollutant concentration\n",
    "    dfhour0 = df[df['Hour'] == 0]\n",
    "    feat0 = getmeanfeatureforhour(dfhour0, feature)\n",
    "    dfhour1 = df[df['Hour'] == 1]\n",
    "    feat1= getmeanfeatureforhour(dfhour1, feature)\n",
    "    dfhour2 = df[df['Hour'] == 2]\n",
    "    feat2 = getmeanfeatureforhour(dfhour2, feature)\n",
    "    dfhour3 = df[df['Hour'] == 3]\n",
    "    feat3 = getmeanfeatureforhour(dfhour3, feature)\n",
    "    dfhour4 = df[df['Hour'] == 4]\n",
    "    feat4 = getmeanfeatureforhour(dfhour4, feature)\n",
    "    dfhour5 = df[df['Hour'] == 5]\n",
    "    feat5 = getmeanfeatureforhour(dfhour5, feature)\n",
    "    dfhour6 = df[df['Hour'] == 6]\n",
    "    feat6 = getmeanfeatureforhour(dfhour6, feature)\n",
    "    dfhour7 = df[df['Hour'] == 7]\n",
    "    feat7 = getmeanfeatureforhour(dfhour7, feature)\n",
    "    dfhour8 = df[df['Hour'] == 8]\n",
    "    feat8 = getmeanfeatureforhour(dfhour8, feature)\n",
    "    dfhour9 = df[df['Hour'] == 9]\n",
    "    feat9 = getmeanfeatureforhour(dfhour9, feature)\n",
    "    dfhour10 = df[df['Hour'] == 10]\n",
    "    feat10 = getmeanfeatureforhour(dfhour10, feature)\n",
    "    dfhour11 = df[df['Hour'] == 11]\n",
    "    feat11 = getmeanfeatureforhour(dfhour11, feature)\n",
    "    dfhour12 = df[df['Hour'] == 12]\n",
    "    feat12 = getmeanfeatureforhour(dfhour12, feature)\n",
    "    dfhour13 = df[df['Hour'] == 13]\n",
    "    feat13 = getmeanfeatureforhour(dfhour13, feature)\n",
    "    dfhour14 = df[df['Hour'] == 14]\n",
    "    feat14 = getmeanfeatureforhour(dfhour14, feature)\n",
    "    dfhour15 = df[df['Hour'] == 15]\n",
    "    feat15 = getmeanfeatureforhour(dfhour15, feature)\n",
    "    dfhour16 = df[df['Hour'] == 16]\n",
    "    feat16 = getmeanfeatureforhour(dfhour16, feature)\n",
    "    dfhour17 = df[df['Hour'] == 17]\n",
    "    feat17 = getmeanfeatureforhour(dfhour17, feature)\n",
    "    dfhour18 = df[df['Hour'] == 18]\n",
    "    feat18 = getmeanfeatureforhour(dfhour18, feature)\n",
    "    dfhour19 = df[df['Hour'] == 19]\n",
    "    feat19 = getmeanfeatureforhour(dfhour19, feature)\n",
    "    dfhour20 = df[df['Hour'] == 20]\n",
    "    feat20 = getmeanfeatureforhour(dfhour20, feature)\n",
    "    dfhour21 = df[df['Hour'] == 21]\n",
    "    feat21 = getmeanfeatureforhour(dfhour21, feature)\n",
    "    dfhour22 = df[df['Hour'] == 22]\n",
    "    feat22 = getmeanfeatureforhour(dfhour22, feature)\n",
    "    dfhour23 = df[df['Hour'] == 23]\n",
    "    feat23 = getmeanfeatureforhour(dfhour23, feature)\n",
    "\n",
    "    featlist = [feat0,feat1,feat2,feat3,feat4,feat5,feat6,feat7,feat8,feat9,feat10,feat11,feat12,feat13,feat14,feat15,feat16,feat17,feat18,feat19,feat20,feat21,feat22,feat23]\n",
    "    return featlist\n",
    "\n",
    "hour_list = [0, 1, 2, 3, 4, 5, 6, 7, 8, 9, 10, 11, 12, 13, 14, 15, 16, 17, 18, 19, 20, 21, 22, 23]\n"
   ]
  },
  {
   "cell_type": "code",
   "execution_count": null,
   "metadata": {
    "collapsed": true
   },
   "outputs": [],
   "source": []
  },
  {
   "cell_type": "code",
   "execution_count": 343,
   "metadata": {
    "collapsed": true
   },
   "outputs": [],
   "source": [
    "df1_columns = [column for column in dataframe1]\n",
    "df_feature_diurnal = widgets.Dropdown(\n",
    "    options= df1_columns,\n",
    "    description='Choose feature:'\n",
    ")\n",
    "display(df_feature_diurnal)"
   ]
  },
  {
   "cell_type": "code",
   "execution_count": 347,
   "metadata": {
    "collapsed": false
   },
   "outputs": [
    {
     "data": {
      "image/png": "[encoded data removed]",
      "text/plain": [
       "<matplotlib.figure.Figure at 0x7f3a6ec4b8d0>"
      ]
     },
     "metadata": {},
     "output_type": "display_data"
    }
   ],
   "source": [
    "plt.plot(hour_list, featurediurnaldata(dataframe1, df_feature_diurnal.value))\n",
    "plt.plot(hour_list, featurediurnaldata(dataframe2, df_feature_diurnal.value))\n",
    "plt.title('Diurnal profile of ' + df_feature_diurnal.value)\n",
    "plt.legend([dataframe1_name.value, dataframe2_name.value])\n",
    "plt.ylabel(df_feature_diurnal.value + ' (Needs units)')\n",
    "plt.xlabel('Hour of day')\n",
    "plt.show()"
   ]
  },
  {
   "cell_type": "code",
   "execution_count": null,
   "metadata": {
    "collapsed": true
   },
   "outputs": [],
   "source": []
  }
 ],
 "metadata": {
  "kernelspec": {
   "display_name": "Python 2",
   "language": "python",
   "name": "python2"
  },
  "language_info": {
   "codemirror_mode": {
    "name": "ipython",
    "version": 2
   },
   "file_extension": ".py",
   "mimetype": "text/x-python",
   "name": "python",
   "nbconvert_exporter": "python",
   "pygments_lexer": "ipython2",
   "version": "2.7.11"
  }
 },
 "nbformat": 4,
 "nbformat_minor": 0
}
