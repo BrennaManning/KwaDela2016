{
 "cells": [
  {
   "cell_type": "markdown",
   "metadata": {},
   "source": [
    "# Atmospheric Data Analysis Suite"
   ]
  },
  {
   "cell_type": "code",
   "execution_count": 286,
   "metadata": {
    "collapsed": false
   },
   "outputs": [],
   "source": [
    "# IMPORTS\n",
    "import pandas as pd\n",
    "%matplotlib inline\n",
    "from IPython.display import display\n",
    "from ipywidgets import widgets\n",
    "from IPython.html.widgets import *\n",
    "from IPython.display import display\n",
    "import ipywidgets as widgets\n",
    "from ipywidgets import *\n",
    "import numpy as np\n",
    "from datetime import datetime\n",
    "import pandas as pd\n",
    "import matplotlib.pyplot as plt\n",
    "from matplotlib.ticker import ScalarFormatter, FormatStrFormatter\n",
    "import seaborn as sns\n",
    "sns.set_context(\"poster\")\n",
    "import numpy as np\n",
    "import pprint as pp\n",
    "import scipy.stats as stats"
   ]
  },
  {
   "cell_type": "code",
   "execution_count": 287,
   "metadata": {
    "collapsed": true
   },
   "outputs": [],
   "source": [
    "# HELPER FUNCTIONS\n",
    "def clean_string(s):\n",
    "    return s.replace(\" \", \"\")\n"
   ]
  },
  {
   "cell_type": "markdown",
   "metadata": {},
   "source": [
    "### SELECT DATAFRAMES\n",
    "\n",
    "If the csv file with your data is not in this folder, please include the path to the correct folder. \n",
    "'/Doucments/data/mydata.csv'\n"
   ]
  },
  {
   "cell_type": "code",
   "execution_count": 338,
   "metadata": {
    "collapsed": false
   },
   "outputs": [],
   "source": [
    "df_dict = {}\n",
    "df1Filename = widgets.Text(\n",
    "    description='.CSV File:',\n",
    "    value= 'Kwadela2013-winter.csv',\n",
    ")\n",
    "df1Filename"
   ]
  },
  {
   "cell_type": "code",
   "execution_count": 289,
   "metadata": {
    "collapsed": false
   },
   "outputs": [],
   "source": [
    "df2Filename = widgets.Text(\n",
    "    description='.CSV File:',\n",
    "    value= 'Kwadela2014-winter.csv',\n",
    ")\n",
    "df2Filename"
   ]
  },
  {
   "cell_type": "code",
   "execution_count": 290,
   "metadata": {
    "collapsed": false
   },
   "outputs": [],
   "source": [
    "dataframe1 = pd.read_csv(df1Filename.value)\n",
    "dataframe2 = pd.read_csv(df2Filename.value)"
   ]
  },
  {
   "cell_type": "code",
   "execution_count": 291,
   "metadata": {
    "collapsed": false
   },
   "outputs": [],
   "source": [
    "dataframe1_name = widgets.Text(\n",
    "    description='Dataframe 1 name:',\n",
    "    value= 'Dataframe1',\n",
    ")\n",
    "\n",
    "dataframe1_name"
   ]
  },
  {
   "cell_type": "code",
   "execution_count": 292,
   "metadata": {
    "collapsed": true
   },
   "outputs": [],
   "source": [
    "dataframe2_name = widgets.Text(\n",
    "    description='Dataframe 2 name:',\n",
    "    value= 'Dataframe2',\n",
    ")\n",
    "dataframe2_name"
   ]
  },
  {
   "cell_type": "markdown",
   "metadata": {},
   "source": [
    "### SELECT FEATURES\n",
    "Choose the columns from dataframe 1 that you would like to analyze.\n",
    "Check boxes to the right of the column you wish to select."
   ]
  },
  {
   "cell_type": "code",
   "execution_count": 293,
   "metadata": {
    "collapsed": true
   },
   "outputs": [],
   "source": [
    "default_select = ['Date', 'Hour', 'Minute', 'Second', 'Year', 'Dusttraks_(mg/m3)','PM10_(ug/m3)','PM2.5_(ug/m3)','SO2_(ppb)',\n",
    "              'CO_(ppm)','NO_(ppb)','NO2_(ppb)','Hour', 'Minute','Day','Month',\n",
    "              'Year','Temperature_(degC)','Wind_Speed_(m/s)']\n",
    "kitchen_list = [column for column in dataframe1 if '-K' in column] #KwaDela"
   ]
  },
  {
   "cell_type": "code",
   "execution_count": 294,
   "metadata": {
    "collapsed": false
   },
   "outputs": [],
   "source": [
    "cb_cont = widgets.HBox(width='100%')\n",
    "cb_cont.overflow_x = 'scroll'\n",
    "checkboxes = []\n",
    "for column in dataframe1:\n",
    "    if column in dataframe2:\n",
    "        if column in default_select:\n",
    "            checkboxes.append(\\\n",
    "                 widgets.Checkbox(description = clean_string('%s') %(column), \\\n",
    "                             value=True, width=50))\n",
    "        elif column in kitchen_list: #To be removed: KwaDela specific\n",
    "            checkboxes.append(\\\n",
    "                 widgets.Checkbox(description = clean_string('%s') %(column), \\\n",
    "                             value=True, width=50))\n",
    "        else:\n",
    "            checkboxes.append(\\\n",
    "                 widgets.Checkbox(description = clean_string('%s') %(column), \\\n",
    "                             value=False, width=50))\n",
    "cb_cont.children=[i for i in checkboxes]\n",
    "display(cb_cont)\n",
    "\n",
    "\n"
   ]
  },
  {
   "cell_type": "code",
   "execution_count": 295,
   "metadata": {
    "collapsed": false
   },
   "outputs": [
    {
     "name": "stdout",
     "output_type": "stream",
     "text": [
      "Date\n",
      "Wind_Speed_(m/s)\n",
      "Temperature_(degC)\n",
      "SO2_(ppb)\n",
      "NO_(ppb)\n",
      "NO2_(ppb)\n",
      "PM10_(ug/m3)\n",
      "PM2.5_(ug/m3)\n",
      "CO_(ppm)\n",
      "H01-K-E\n",
      "H02-K-N\n",
      "H03-K-S\n",
      "H04-K-S\n",
      "H05-K-N\n",
      "H06-K-N\n",
      "H07-K-S\n",
      "H10-K-N\n",
      "Dusttraks_(mg/m3)\n"
     ]
    }
   ],
   "source": [
    "df1_columns = []\n",
    "for checkbox in cb_cont.children:\n",
    "    if checkbox.value:\n",
    "        df1_columns.append(checkbox.description)\n",
    "        print checkbox.description\n",
    "dataframe1 = dataframe1[df1_columns]"
   ]
  },
  {
   "cell_type": "code",
   "execution_count": 296,
   "metadata": {
    "collapsed": false
   },
   "outputs": [],
   "source": [
    "# AUTOMATICALLY SELECTS BOXES THAT APPEAR IN BOTH DATAFRAMES AND WERE CHOSEN FOR DATAFRAME 1.\n",
    "checkboxes = []\n",
    "for column in dataframe2:\n",
    "    if column in df1_columns:\n",
    "        checkboxes.append(\\\n",
    "             widgets.Checkbox(description = clean_string('%s') %(column), \\\n",
    "                         value=True, width=50))\n",
    "    elif column in default_select:\n",
    "        checkboxes.append(\\\n",
    "             widgets.Checkbox(description = clean_string('%s') %(column), \\\n",
    "                         value=True, width=50))\n",
    "    else:\n",
    "        checkboxes.append(\\\n",
    "             widgets.Checkbox(description = clean_string('%s') %(column), \\\n",
    "                         value=False, width=50))\n",
    "cb_cont.children=[i for i in checkboxes]\n",
    "display(cb_cont)\n",
    "\n"
   ]
  },
  {
   "cell_type": "code",
   "execution_count": 297,
   "metadata": {
    "collapsed": false
   },
   "outputs": [
    {
     "name": "stdout",
     "output_type": "stream",
     "text": [
      "Date\n",
      "Hour\n",
      "Minute\n",
      "Second\n",
      "Day\n",
      "Month\n",
      "Year\n",
      "Wind_Speed_(m/s)\n",
      "Temperature_(degC)\n",
      "SO2_(ppb)\n",
      "NO_(ppb)\n",
      "NO2_(ppb)\n",
      "PM10_(ug/m3)\n",
      "PM2.5_(ug/m3)\n",
      "CO_(ppm)\n",
      "H01-K-E\n",
      "H02-K-N\n",
      "H03-K-S\n",
      "H04-K-S\n",
      "H05-K-N\n",
      "H06-K-N\n",
      "H07-K-S\n",
      "H10-K-N\n",
      "Dusttraks_(mg/m3)\n"
     ]
    }
   ],
   "source": [
    "df2_columns = []\n",
    "for checkbox in cb_cont.children:\n",
    "    if checkbox.value:\n",
    "        df2_columns.append(checkbox.description)\n",
    "        print checkbox.description\n",
    "        \n",
    "dataframe2 = dataframe2[df2_columns]"
   ]
  },
  {
   "cell_type": "code",
   "execution_count": 331,
   "metadata": {
    "collapsed": false
   },
   "outputs": [],
   "source": [
    "house_list = [column for column in dataframe1 if '-K' in column]\n",
    "home1 = widgets.Dropdown(\n",
    "    options= house_list,\n",
    "    description='Choose a home from ' + dataframe1_name.value,\n",
    ")\n",
    "display(home1)"
   ]
  },
  {
   "cell_type": "code",
   "execution_count": 299,
   "metadata": {
    "collapsed": true
   },
   "outputs": [],
   "source": [
    "house_list = [column for column in dataframe2 if '-K' in column]\n",
    "home2 = widgets.Dropdown(\n",
    "    options= house_list,\n",
    "    description='Choose a home from ' + dataframe2_name.value,\n",
    ")\n",
    "display(home2)"
   ]
  },
  {
   "cell_type": "code",
   "execution_count": 300,
   "metadata": {
    "collapsed": false
   },
   "outputs": [
    {
     "name": "stdout",
     "output_type": "stream",
     "text": [
      "H01-K-E\n",
      "H01-K-E\n"
     ]
    }
   ],
   "source": [
    "print(home1.value)\n",
    "print(home2.value)"
   ]
  },
  {
   "cell_type": "markdown",
   "metadata": {},
   "source": [
    "### DATAFRAME 1"
   ]
  },
  {
   "cell_type": "code",
   "execution_count": 301,
   "metadata": {
    "collapsed": false
   },
   "outputs": [
    {
     "data": {
      "text/html": [
       "<div>\n",
       "<table border=\"1\" class=\"dataframe\">\n",
       "  <thead>\n",
       "    <tr style=\"text-align: right;\">\n",
       "      <th></th>\n",
       "      <th>Date</th>\n",
       "      <th>Wind_Speed_(m/s)</th>\n",
       "      <th>Temperature_(degC)</th>\n",
       "      <th>SO2_(ppb)</th>\n",
       "      <th>NO_(ppb)</th>\n",
       "      <th>NO2_(ppb)</th>\n",
       "      <th>PM10_(ug/m3)</th>\n",
       "      <th>PM2.5_(ug/m3)</th>\n",
       "      <th>CO_(ppm)</th>\n",
       "      <th>H01-K-E</th>\n",
       "      <th>H02-K-N</th>\n",
       "      <th>H03-K-S</th>\n",
       "      <th>H04-K-S</th>\n",
       "      <th>H05-K-N</th>\n",
       "      <th>H06-K-N</th>\n",
       "      <th>H07-K-S</th>\n",
       "      <th>H10-K-N</th>\n",
       "      <th>Dusttraks_(mg/m3)</th>\n",
       "    </tr>\n",
       "  </thead>\n",
       "  <tbody>\n",
       "    <tr>\n",
       "      <th>0</th>\n",
       "      <td>7/2/13 12:00</td>\n",
       "      <td>NaN</td>\n",
       "      <td>NaN</td>\n",
       "      <td>NaN</td>\n",
       "      <td>NaN</td>\n",
       "      <td>NaN</td>\n",
       "      <td>NaN</td>\n",
       "      <td>NaN</td>\n",
       "      <td>NaN</td>\n",
       "      <td>NaN</td>\n",
       "      <td>NaN</td>\n",
       "      <td>NaN</td>\n",
       "      <td>NaN</td>\n",
       "      <td>NaN</td>\n",
       "      <td>NaN</td>\n",
       "      <td>NaN</td>\n",
       "      <td>NaN</td>\n",
       "      <td>NaN</td>\n",
       "    </tr>\n",
       "    <tr>\n",
       "      <th>1</th>\n",
       "      <td>7/2/13 12:01</td>\n",
       "      <td>NaN</td>\n",
       "      <td>NaN</td>\n",
       "      <td>NaN</td>\n",
       "      <td>NaN</td>\n",
       "      <td>NaN</td>\n",
       "      <td>NaN</td>\n",
       "      <td>NaN</td>\n",
       "      <td>NaN</td>\n",
       "      <td>NaN</td>\n",
       "      <td>NaN</td>\n",
       "      <td>NaN</td>\n",
       "      <td>NaN</td>\n",
       "      <td>NaN</td>\n",
       "      <td>NaN</td>\n",
       "      <td>NaN</td>\n",
       "      <td>NaN</td>\n",
       "      <td>NaN</td>\n",
       "    </tr>\n",
       "    <tr>\n",
       "      <th>2</th>\n",
       "      <td>7/2/13 12:02</td>\n",
       "      <td>NaN</td>\n",
       "      <td>NaN</td>\n",
       "      <td>NaN</td>\n",
       "      <td>NaN</td>\n",
       "      <td>NaN</td>\n",
       "      <td>NaN</td>\n",
       "      <td>NaN</td>\n",
       "      <td>NaN</td>\n",
       "      <td>NaN</td>\n",
       "      <td>NaN</td>\n",
       "      <td>NaN</td>\n",
       "      <td>NaN</td>\n",
       "      <td>NaN</td>\n",
       "      <td>NaN</td>\n",
       "      <td>NaN</td>\n",
       "      <td>NaN</td>\n",
       "      <td>NaN</td>\n",
       "    </tr>\n",
       "    <tr>\n",
       "      <th>3</th>\n",
       "      <td>7/2/13 12:03</td>\n",
       "      <td>NaN</td>\n",
       "      <td>NaN</td>\n",
       "      <td>NaN</td>\n",
       "      <td>NaN</td>\n",
       "      <td>NaN</td>\n",
       "      <td>NaN</td>\n",
       "      <td>NaN</td>\n",
       "      <td>NaN</td>\n",
       "      <td>NaN</td>\n",
       "      <td>NaN</td>\n",
       "      <td>NaN</td>\n",
       "      <td>NaN</td>\n",
       "      <td>NaN</td>\n",
       "      <td>NaN</td>\n",
       "      <td>NaN</td>\n",
       "      <td>NaN</td>\n",
       "      <td>NaN</td>\n",
       "    </tr>\n",
       "    <tr>\n",
       "      <th>4</th>\n",
       "      <td>7/2/13 12:04</td>\n",
       "      <td>NaN</td>\n",
       "      <td>NaN</td>\n",
       "      <td>NaN</td>\n",
       "      <td>NaN</td>\n",
       "      <td>NaN</td>\n",
       "      <td>NaN</td>\n",
       "      <td>NaN</td>\n",
       "      <td>NaN</td>\n",
       "      <td>NaN</td>\n",
       "      <td>NaN</td>\n",
       "      <td>NaN</td>\n",
       "      <td>NaN</td>\n",
       "      <td>NaN</td>\n",
       "      <td>NaN</td>\n",
       "      <td>NaN</td>\n",
       "      <td>NaN</td>\n",
       "      <td>NaN</td>\n",
       "    </tr>\n",
       "  </tbody>\n",
       "</table>\n",
       "</div>"
      ],
      "text/plain": [
       "           Date  Wind_Speed_(m/s)  Temperature_(degC)  SO2_(ppb)  NO_(ppb)  \\\n",
       "0  7/2/13 12:00               NaN                 NaN        NaN       NaN   \n",
       "1  7/2/13 12:01               NaN                 NaN        NaN       NaN   \n",
       "2  7/2/13 12:02               NaN                 NaN        NaN       NaN   \n",
       "3  7/2/13 12:03               NaN                 NaN        NaN       NaN   \n",
       "4  7/2/13 12:04               NaN                 NaN        NaN       NaN   \n",
       "\n",
       "   NO2_(ppb)  PM10_(ug/m3)  PM2.5_(ug/m3)  CO_(ppm)  H01-K-E  H02-K-N  \\\n",
       "0        NaN           NaN            NaN       NaN      NaN      NaN   \n",
       "1        NaN           NaN            NaN       NaN      NaN      NaN   \n",
       "2        NaN           NaN            NaN       NaN      NaN      NaN   \n",
       "3        NaN           NaN            NaN       NaN      NaN      NaN   \n",
       "4        NaN           NaN            NaN       NaN      NaN      NaN   \n",
       "\n",
       "   H03-K-S  H04-K-S  H05-K-N  H06-K-N  H07-K-S  H10-K-N  Dusttraks_(mg/m3)  \n",
       "0      NaN      NaN      NaN      NaN      NaN      NaN                NaN  \n",
       "1      NaN      NaN      NaN      NaN      NaN      NaN                NaN  \n",
       "2      NaN      NaN      NaN      NaN      NaN      NaN                NaN  \n",
       "3      NaN      NaN      NaN      NaN      NaN      NaN                NaN  \n",
       "4      NaN      NaN      NaN      NaN      NaN      NaN                NaN  "
      ]
     },
     "execution_count": 301,
     "metadata": {},
     "output_type": "execute_result"
    }
   ],
   "source": [
    "dataframe1.head()"
   ]
  },
  {
   "cell_type": "markdown",
   "metadata": {},
   "source": [
    "### DATAFRAME 2"
   ]
  },
  {
   "cell_type": "code",
   "execution_count": 302,
   "metadata": {
    "collapsed": false
   },
   "outputs": [
    {
     "data": {
      "text/html": [
       "<div>\n",
       "<table border=\"1\" class=\"dataframe\">\n",
       "  <thead>\n",
       "    <tr style=\"text-align: right;\">\n",
       "      <th></th>\n",
       "      <th>Date</th>\n",
       "      <th>Hour</th>\n",
       "      <th>Minute</th>\n",
       "      <th>Second</th>\n",
       "      <th>Day</th>\n",
       "      <th>Month</th>\n",
       "      <th>Year</th>\n",
       "      <th>Wind_Speed_(m/s)</th>\n",
       "      <th>Temperature_(degC)</th>\n",
       "      <th>SO2_(ppb)</th>\n",
       "      <th>...</th>\n",
       "      <th>CO_(ppm)</th>\n",
       "      <th>H01-K-E</th>\n",
       "      <th>H02-K-N</th>\n",
       "      <th>H03-K-S</th>\n",
       "      <th>H04-K-S</th>\n",
       "      <th>H05-K-N</th>\n",
       "      <th>H06-K-N</th>\n",
       "      <th>H07-K-S</th>\n",
       "      <th>H10-K-N</th>\n",
       "      <th>Dusttraks_(mg/m3)</th>\n",
       "    </tr>\n",
       "  </thead>\n",
       "  <tbody>\n",
       "    <tr>\n",
       "      <th>0</th>\n",
       "      <td>7/11/14 12:00</td>\n",
       "      <td>12</td>\n",
       "      <td>0</td>\n",
       "      <td>0</td>\n",
       "      <td>11</td>\n",
       "      <td>7</td>\n",
       "      <td>2014</td>\n",
       "      <td>4.458</td>\n",
       "      <td>11.910</td>\n",
       "      <td>NaN</td>\n",
       "      <td>...</td>\n",
       "      <td>0.193</td>\n",
       "      <td>22.3</td>\n",
       "      <td>15.4</td>\n",
       "      <td>13.1</td>\n",
       "      <td>13.8</td>\n",
       "      <td>15.4</td>\n",
       "      <td>11.7</td>\n",
       "      <td>15.3</td>\n",
       "      <td>17.1</td>\n",
       "      <td>0.043</td>\n",
       "    </tr>\n",
       "    <tr>\n",
       "      <th>1</th>\n",
       "      <td>7/11/14 12:01</td>\n",
       "      <td>12</td>\n",
       "      <td>1</td>\n",
       "      <td>0</td>\n",
       "      <td>11</td>\n",
       "      <td>7</td>\n",
       "      <td>2014</td>\n",
       "      <td>4.887</td>\n",
       "      <td>11.944</td>\n",
       "      <td>NaN</td>\n",
       "      <td>...</td>\n",
       "      <td>0.163</td>\n",
       "      <td>22.9</td>\n",
       "      <td>15.3</td>\n",
       "      <td>13.1</td>\n",
       "      <td>13.8</td>\n",
       "      <td>15.4</td>\n",
       "      <td>11.7</td>\n",
       "      <td>15.4</td>\n",
       "      <td>17.2</td>\n",
       "      <td>0.041</td>\n",
       "    </tr>\n",
       "    <tr>\n",
       "      <th>2</th>\n",
       "      <td>7/11/14 12:02</td>\n",
       "      <td>12</td>\n",
       "      <td>2</td>\n",
       "      <td>0</td>\n",
       "      <td>11</td>\n",
       "      <td>7</td>\n",
       "      <td>2014</td>\n",
       "      <td>2.988</td>\n",
       "      <td>11.860</td>\n",
       "      <td>NaN</td>\n",
       "      <td>...</td>\n",
       "      <td>0.188</td>\n",
       "      <td>23.5</td>\n",
       "      <td>15.3</td>\n",
       "      <td>13.0</td>\n",
       "      <td>13.8</td>\n",
       "      <td>15.5</td>\n",
       "      <td>11.8</td>\n",
       "      <td>15.4</td>\n",
       "      <td>17.3</td>\n",
       "      <td>0.042</td>\n",
       "    </tr>\n",
       "    <tr>\n",
       "      <th>3</th>\n",
       "      <td>7/11/14 12:03</td>\n",
       "      <td>12</td>\n",
       "      <td>3</td>\n",
       "      <td>0</td>\n",
       "      <td>11</td>\n",
       "      <td>7</td>\n",
       "      <td>2014</td>\n",
       "      <td>5.413</td>\n",
       "      <td>12.028</td>\n",
       "      <td>NaN</td>\n",
       "      <td>...</td>\n",
       "      <td>0.206</td>\n",
       "      <td>24.1</td>\n",
       "      <td>15.2</td>\n",
       "      <td>13.1</td>\n",
       "      <td>13.7</td>\n",
       "      <td>15.5</td>\n",
       "      <td>11.8</td>\n",
       "      <td>15.5</td>\n",
       "      <td>17.4</td>\n",
       "      <td>0.044</td>\n",
       "    </tr>\n",
       "    <tr>\n",
       "      <th>4</th>\n",
       "      <td>7/11/14 12:04</td>\n",
       "      <td>12</td>\n",
       "      <td>4</td>\n",
       "      <td>0</td>\n",
       "      <td>11</td>\n",
       "      <td>7</td>\n",
       "      <td>2014</td>\n",
       "      <td>6.788</td>\n",
       "      <td>12.310</td>\n",
       "      <td>NaN</td>\n",
       "      <td>...</td>\n",
       "      <td>0.240</td>\n",
       "      <td>24.7</td>\n",
       "      <td>15.2</td>\n",
       "      <td>13.1</td>\n",
       "      <td>13.7</td>\n",
       "      <td>15.5</td>\n",
       "      <td>11.8</td>\n",
       "      <td>15.5</td>\n",
       "      <td>17.5</td>\n",
       "      <td>0.043</td>\n",
       "    </tr>\n",
       "  </tbody>\n",
       "</table>\n",
       "<p>5 rows × 24 columns</p>\n",
       "</div>"
      ],
      "text/plain": [
       "            Date  Hour  Minute  Second  Day  Month  Year  Wind_Speed_(m/s)  \\\n",
       "0  7/11/14 12:00    12       0       0   11      7  2014             4.458   \n",
       "1  7/11/14 12:01    12       1       0   11      7  2014             4.887   \n",
       "2  7/11/14 12:02    12       2       0   11      7  2014             2.988   \n",
       "3  7/11/14 12:03    12       3       0   11      7  2014             5.413   \n",
       "4  7/11/14 12:04    12       4       0   11      7  2014             6.788   \n",
       "\n",
       "   Temperature_(degC)  SO2_(ppb)        ...          CO_(ppm)  H01-K-E  \\\n",
       "0              11.910        NaN        ...             0.193     22.3   \n",
       "1              11.944        NaN        ...             0.163     22.9   \n",
       "2              11.860        NaN        ...             0.188     23.5   \n",
       "3              12.028        NaN        ...             0.206     24.1   \n",
       "4              12.310        NaN        ...             0.240     24.7   \n",
       "\n",
       "   H02-K-N  H03-K-S  H04-K-S  H05-K-N  H06-K-N  H07-K-S  H10-K-N  \\\n",
       "0     15.4     13.1     13.8     15.4     11.7     15.3     17.1   \n",
       "1     15.3     13.1     13.8     15.4     11.7     15.4     17.2   \n",
       "2     15.3     13.0     13.8     15.5     11.8     15.4     17.3   \n",
       "3     15.2     13.1     13.7     15.5     11.8     15.5     17.4   \n",
       "4     15.2     13.1     13.7     15.5     11.8     15.5     17.5   \n",
       "\n",
       "   Dusttraks_(mg/m3)  \n",
       "0              0.043  \n",
       "1              0.041  \n",
       "2              0.042  \n",
       "3              0.044  \n",
       "4              0.043  \n",
       "\n",
       "[5 rows x 24 columns]"
      ]
     },
     "execution_count": 302,
     "metadata": {},
     "output_type": "execute_result"
    }
   ],
   "source": [
    "dataframe2.head()"
   ]
  },
  {
   "cell_type": "markdown",
   "metadata": {},
   "source": [
    "### SOME HELPER FUNCTIONS TO BE USED IN ANALYSIS"
   ]
  },
  {
   "cell_type": "code",
   "execution_count": 303,
   "metadata": {
    "collapsed": true
   },
   "outputs": [],
   "source": [
    "def get_datetime(s):\n",
    "    \"\"\"strips date and time from the already existing date column\"\"\"\n",
    "    dt = datetime.strptime(s, \"%m/%d/%y %H:%M\")\n",
    "    return dt\n",
    "\n",
    "def daysSinceStart(df):\n",
    "    \"\"\"get time since epoch using a series for month and day\n",
    "    takes in dataframe and returns the dataframe with an added column\n",
    "    for days since the beginning of data collection\"\"\"\n",
    "    \n",
    "    dayArray = np.array(df.Day)\n",
    "    monthArray = np.array(df.Month)\n",
    "    \n",
    "    runningDays = []\n",
    "    for day, month in zip(dayArray, monthArray):\n",
    "        if month == 7:\n",
    "            total_days = 0\n",
    "            #do nothing, append the normal day\n",
    "        elif month == 8:\n",
    "            total_days = 31 \n",
    "        elif month == 9:\n",
    "            total_days = 61\n",
    "        else:\n",
    "            raise ValueError \n",
    "        total_days = total_days + day\n",
    "        #print'tot days:', total_days, month, day\n",
    "        runningDays.append(total_days)\n",
    "    df['DayCount'] = pd.Series(runningDays, index = df.index)\n",
    "    return df\n",
    "\n",
    "\n",
    "#Daily Average Temperature\n",
    "\n",
    "def compute_avg_vals(df):\n",
    "    \"\"\"computes average values of each day in a dataframe\n",
    "    must apply to a groupby object where df is grouped by days\n",
    "    returns a dataframe with several new, added columns \"\"\"\n",
    "    \n",
    "    df['DailyAverageTemp'] = df['Temperature_(degC)'].mean()\n",
    "    #df['DailyAverageTempHouse'] = df['AvgHouse'].mean()\n",
    "    #computes avg indoor temp: takes in a dataframe and returns a dataframe with a new column\n",
    "    #Removed: df['H07-K-S'].mean() because it's mostly just Nans\n",
    "    #df['AvgHouse'] = (df['H01-K-E'].mean()+ df['H02-K-N'].mean() + df['H03-K-S'].mean()+ df['H04-K-S'].mean())/4\n",
    "    #df['DailyAvgHouse']= df['AvgHouse'].mean()\n",
    "    #Dusttraks/PM4\n",
    "    df['DailyAvgDusttraks'] = df['Dusttraks_(mg/m3)'].mean()\n",
    "    df['DailyAvgPM4'] = df['PM4_(ug/m3)'].mean()\n",
    "    df['DailyAvgWind'] = df['Wind_Speed_(m/s)'].mean()\n",
    "    return df\n",
    "\n",
    "def compute_avg_house13(df):\n",
    "    \"\"\"tailored to compute the average indoor house temperature of 2013\"\"\"\n",
    "    df['AvgHouse'] = (df['H01-K-E']+ df['H02-K-N']+ df['H03-K-S']+ df['H04-K-S']\n",
    "                      + df['H05-K-N']+df['H06-K-N'] + df['H10-K-N']\n",
    "                      +df['H11-K-X']+ df['H12-K-N'] + df['H15-K-S'] +df['H17-K-N'] \n",
    "                      + df['H18-K-S'] + df['H20-K-S']\n",
    "                      )/13\n",
    "    return df\n",
    "\n",
    "def compute_avg_house14(df):\n",
    "    \"\"\"tailored to compute the avg indoor house temp for 2014\"\"\"\n",
    "    df['AvgHouse'] = (df['H01-K-E']+ df['H02-K-N']+ df['H03-K-S']+ df['H04-K-S']\n",
    "                      + df['H05-K-N']+df['H06-K-N'] + df['H10-K-N']\n",
    "                      +df['H11-K-N'] + df['H15-K-N']+df['H16-K-N'] +df['H17-K-S'] \n",
    "                      + df['H18-K-N']+df['H19-K-W'] + df['H22-K-S']\n",
    "                      )/14\n",
    "    return df\n",
    "\n",
    "def tempdifference(df):\n",
    "    \"\"\"computes a column of the difference in indoor and outdoor temperature, AvgHouse and Temperature_(degC)\n",
    "    df: any given dataframe\n",
    "    returns a dataframe with a new column\"\"\"\n",
    "    df['tempdifference'] = df['AvgHouse']-df['Temperature_(degC)']\n",
    "    return df\n",
    "\n",
    "\n",
    "def abcdeTimeDataframes(df):\n",
    "    \"\"\"splits a dataframe into a series of times for differently characterized burning periods of the day\n",
    "    df: timeseries dataframe to be split into specified time ranges\n",
    "    returns: 4 different dataframes for early morning, breakfast, afternoon, dinner, and evening times\n",
    "    \"\"\"\n",
    "    #DATAFRAMES FOR GIVEN TIME RANGES\n",
    "    dfA = df[df['Hour'] < 5]\n",
    "    dfB = df[df['Hour'] > 4]\n",
    "    dfB = dfB[dfB['Hour'] <= 9]\n",
    "    dfC = df[df['Hour'] >9]\n",
    "    dfC = dfC[dfC['Hour'] <= 14]\n",
    "    dfD = df[df['Hour'] >14]\n",
    "    dfD = dfD[dfD['Hour'] <= 21]\n",
    "    dfE = df[df['Hour'] > 21]\n",
    "    res = [dfA, dfB, dfC, dfD, dfE]\n",
    "    return res\n",
    "\n",
    "\n",
    "#GENERAL FUNCTION FOR DIURNAL DATA\n",
    "\n",
    "def getmeanfeatureforhour(hourdf, feature):\n",
    "    \"\"\"hourdf: dataframe specific to one hour of data\n",
    "    feature: given header to be explored (temperature, PMx, etc)\n",
    "    returns: dataframe with a new mean feature per hour\"\"\"\n",
    "    \n",
    "    res = hourdf[feature].mean()\n",
    "    return res\n",
    "\n",
    "def featurediurnaldata(df, feature):\n",
    "    \"\"\"breaks down a given dataframe by feature into one dataframe per hour (24) for plotting of a dirunal profile\n",
    "    df: dataframe to be broken down\n",
    "    feature: header to be broken down\"\"\"\n",
    "    #feature for example could be a temperature or pollutant concentration\n",
    "    dfhour0 = df[df['Hour'] == 0]\n",
    "    feat0 = getmeanfeatureforhour(dfhour0, feature)\n",
    "    dfhour1 = df[df['Hour'] == 1]\n",
    "    feat1= getmeanfeatureforhour(dfhour1, feature)\n",
    "    dfhour2 = df[df['Hour'] == 2]\n",
    "    feat2 = getmeanfeatureforhour(dfhour2, feature)\n",
    "    dfhour3 = df[df['Hour'] == 3]\n",
    "    feat3 = getmeanfeatureforhour(dfhour3, feature)\n",
    "    dfhour4 = df[df['Hour'] == 4]\n",
    "    feat4 = getmeanfeatureforhour(dfhour4, feature)\n",
    "    dfhour5 = df[df['Hour'] == 5]\n",
    "    feat5 = getmeanfeatureforhour(dfhour5, feature)\n",
    "    dfhour6 = df[df['Hour'] == 6]\n",
    "    feat6 = getmeanfeatureforhour(dfhour6, feature)\n",
    "    dfhour7 = df[df['Hour'] == 7]\n",
    "    feat7 = getmeanfeatureforhour(dfhour7, feature)\n",
    "    dfhour8 = df[df['Hour'] == 8]\n",
    "    feat8 = getmeanfeatureforhour(dfhour8, feature)\n",
    "    dfhour9 = df[df['Hour'] == 9]\n",
    "    feat9 = getmeanfeatureforhour(dfhour9, feature)\n",
    "    dfhour10 = df[df['Hour'] == 10]\n",
    "    feat10 = getmeanfeatureforhour(dfhour10, feature)\n",
    "    dfhour11 = df[df['Hour'] == 11]\n",
    "    feat11 = getmeanfeatureforhour(dfhour11, feature)\n",
    "    dfhour12 = df[df['Hour'] == 12]\n",
    "    feat12 = getmeanfeatureforhour(dfhour12, feature)\n",
    "    dfhour13 = df[df['Hour'] == 13]\n",
    "    feat13 = getmeanfeatureforhour(dfhour13, feature)\n",
    "    dfhour14 = df[df['Hour'] == 14]\n",
    "    feat14 = getmeanfeatureforhour(dfhour14, feature)\n",
    "    dfhour15 = df[df['Hour'] == 15]\n",
    "    feat15 = getmeanfeatureforhour(dfhour15, feature)\n",
    "    dfhour16 = df[df['Hour'] == 16]\n",
    "    feat16 = getmeanfeatureforhour(dfhour16, feature)\n",
    "    dfhour17 = df[df['Hour'] == 17]\n",
    "    feat17 = getmeanfeatureforhour(dfhour17, feature)\n",
    "    dfhour18 = df[df['Hour'] == 18]\n",
    "    feat18 = getmeanfeatureforhour(dfhour18, feature)\n",
    "    dfhour19 = df[df['Hour'] == 19]\n",
    "    feat19 = getmeanfeatureforhour(dfhour19, feature)\n",
    "    dfhour20 = df[df['Hour'] == 20]\n",
    "    feat20 = getmeanfeatureforhour(dfhour20, feature)\n",
    "    dfhour21 = df[df['Hour'] == 21]\n",
    "    feat21 = getmeanfeatureforhour(dfhour21, feature)\n",
    "    dfhour22 = df[df['Hour'] == 22]\n",
    "    feat22 = getmeanfeatureforhour(dfhour22, feature)\n",
    "    dfhour23 = df[df['Hour'] == 23]\n",
    "    feat23 = getmeanfeatureforhour(dfhour23, feature)\n",
    "\n",
    "    featlist = [feat0,feat1,feat2,feat3,feat4,feat5,feat6,feat7,feat8,feat9,feat10,feat11,feat12,feat13,feat14,feat15,feat16,feat17,feat18,feat19,feat20,feat21,feat22,feat23]\n",
    "    return featlist\n",
    "\n",
    "\n",
    "\n",
    "def preprocess(df):\n",
    "    \"\"\"get all mean features and recodes for plotting and stats analysis\n",
    "    apply correction factor and unit tweaking where appropriate\n",
    "    returns: a copy of the original df with added hour, day,month, year, daycount\n",
    "    tempdifferent, and PM4 counts\"\"\"\n",
    "\n",
    "    res = df.copy()\n",
    "    if hasattr(res, 'Date'):\n",
    "        datetimes = res.Date.apply(get_datetime)\n",
    "        res['Hour'] = datetimes.apply(lambda dt: dt.hour)\n",
    "        res['Day'] = datetimes.apply(lambda dt: dt.day)\n",
    "        res['Month'] = datetimes.apply(lambda dt: dt.month)\n",
    "        res['Year'] = datetimes.apply(lambda dt: dt.year)\n",
    "    res = daysSinceStart(res)\n",
    "    res['Dusttraks_(mg/m3)']= res['Dusttraks_(mg/m3)']*0.14\n",
    "    res['PM4_(ug/m3)']=res['Dusttraks_(mg/m3)']*1000\n",
    "    grouped = res.groupby('DayCount')\n",
    "    res = grouped.apply(compute_avg_vals)\n",
    "    #res= tempdifference(res)\n",
    "    return res\n",
    "\n",
    "\n"
   ]
  },
  {
   "cell_type": "markdown",
   "metadata": {},
   "source": [
    "### SOME DATAFRAME CLEANING"
   ]
  },
  {
   "cell_type": "code",
   "execution_count": 339,
   "metadata": {
    "collapsed": false
   },
   "outputs": [],
   "source": [
    "dataframe1 = preprocess(dataframe1)\n",
    "dataframe2 = preprocess(dataframe2)\n",
    "\n",
    "df_dict['dataframe1']=dataframe1\n",
    "df_dict['dataframe2']=dataframe2"
   ]
  },
  {
   "cell_type": "markdown",
   "metadata": {},
   "source": [
    "## COMPARING TWO DATASETS"
   ]
  },
  {
   "cell_type": "markdown",
   "metadata": {},
   "source": [
    "CHOOSE VAL"
   ]
  },
  {
   "cell_type": "code",
   "execution_count": 309,
   "metadata": {
    "collapsed": false
   },
   "outputs": [],
   "source": [
    "df1_columns = [column for column in dataframe1]\n",
    "df1_feature_x = widgets.Dropdown(\n",
    "    options= df1_columns,\n",
    "    value = 'DayCount',\n",
    "    description='Choose x feature:'\n",
    ")\n",
    "display(df1_feature_x)"
   ]
  },
  {
   "cell_type": "code",
   "execution_count": 310,
   "metadata": {
    "collapsed": true
   },
   "outputs": [],
   "source": [
    "df1_columns = [column for column in dataframe1]\n",
    "df1_feature_y = widgets.Dropdown(\n",
    "    options= df1_columns,\n",
    "    description='Choose y feature:'\n",
    ")\n",
    "display(df1_feature_y)"
   ]
  },
  {
   "cell_type": "code",
   "execution_count": 311,
   "metadata": {
    "collapsed": false
   },
   "outputs": [
    {
     "ename": "AttributeError",
     "evalue": "'Series' object has no attribute 'find'",
     "output_type": "error",
     "traceback": [
      "\u001b[1;31m---------------------------------------------------------------------------\u001b[0m",
      "\u001b[1;31mAttributeError\u001b[0m                            Traceback (most recent call last)",
      "\u001b[1;32m<ipython-input-311-88352d9aa2a6>\u001b[0m in \u001b[0;36m<module>\u001b[1;34m()\u001b[0m\n\u001b[1;32m----> 1\u001b[1;33m \u001b[0mplt\u001b[0m\u001b[1;33m.\u001b[0m\u001b[0mplot\u001b[0m\u001b[1;33m(\u001b[0m\u001b[0mdataframe1\u001b[0m\u001b[1;33m[\u001b[0m\u001b[0mdf1_feature_x\u001b[0m\u001b[1;33m.\u001b[0m\u001b[0mvalue\u001b[0m\u001b[1;33m]\u001b[0m\u001b[1;33m,\u001b[0m \u001b[0mdataframe1\u001b[0m\u001b[1;33m[\u001b[0m\u001b[0mdf1_feature_y\u001b[0m\u001b[1;33m.\u001b[0m\u001b[0mvalue\u001b[0m\u001b[1;33m]\u001b[0m\u001b[1;33m)\u001b[0m\u001b[1;33m\u001b[0m\u001b[0m\n\u001b[0m\u001b[0;32m      2\u001b[0m \u001b[0mplt\u001b[0m\u001b[1;33m.\u001b[0m\u001b[0mplot\u001b[0m\u001b[1;33m(\u001b[0m\u001b[0mdataframe2\u001b[0m\u001b[1;33m[\u001b[0m\u001b[0mdf1_feature_x\u001b[0m\u001b[1;33m.\u001b[0m\u001b[0mvalue\u001b[0m\u001b[1;33m]\u001b[0m\u001b[1;33m,\u001b[0m \u001b[0mdataframe2\u001b[0m\u001b[1;33m[\u001b[0m\u001b[0mdf1_feature_y\u001b[0m\u001b[1;33m.\u001b[0m\u001b[0mvalue\u001b[0m\u001b[1;33m]\u001b[0m\u001b[1;33m)\u001b[0m\u001b[1;33m\u001b[0m\u001b[0m\n\u001b[0;32m      3\u001b[0m \u001b[0mplt\u001b[0m\u001b[1;33m.\u001b[0m\u001b[0mxlabel\u001b[0m\u001b[1;33m(\u001b[0m\u001b[0mdf1_feature_x\u001b[0m\u001b[1;33m.\u001b[0m\u001b[0mvalue\u001b[0m \u001b[1;33m+\u001b[0m \u001b[1;34m' (Need units)'\u001b[0m\u001b[1;33m)\u001b[0m\u001b[1;33m\u001b[0m\u001b[0m\n\u001b[0;32m      4\u001b[0m \u001b[0mplt\u001b[0m\u001b[1;33m.\u001b[0m\u001b[0mylabel\u001b[0m\u001b[1;33m(\u001b[0m\u001b[0mdf1_feature_y\u001b[0m\u001b[1;33m.\u001b[0m\u001b[0mvalue\u001b[0m \u001b[1;33m+\u001b[0m \u001b[1;34m' (Need units)'\u001b[0m\u001b[1;33m)\u001b[0m\u001b[1;33m\u001b[0m\u001b[0m\n\u001b[0;32m      5\u001b[0m \u001b[0mplt\u001b[0m\u001b[1;33m.\u001b[0m\u001b[0mtitle\u001b[0m\u001b[1;33m(\u001b[0m\u001b[0mdataframe1_name\u001b[0m\u001b[1;33m.\u001b[0m\u001b[0mvalue\u001b[0m \u001b[1;33m+\u001b[0m \u001b[1;34m' vs '\u001b[0m \u001b[1;33m+\u001b[0m \u001b[0mdataframe2_name\u001b[0m\u001b[1;33m.\u001b[0m\u001b[0mvalue\u001b[0m\u001b[1;33m)\u001b[0m\u001b[1;33m\u001b[0m\u001b[0m\n",
      "\u001b[1;32m/home/brenna/anaconda2/lib/python2.7/site-packages/matplotlib/pyplot.pyc\u001b[0m in \u001b[0;36mplot\u001b[1;34m(*args, **kwargs)\u001b[0m\n\u001b[0;32m   3152\u001b[0m         \u001b[0max\u001b[0m\u001b[1;33m.\u001b[0m\u001b[0mhold\u001b[0m\u001b[1;33m(\u001b[0m\u001b[0mhold\u001b[0m\u001b[1;33m)\u001b[0m\u001b[1;33m\u001b[0m\u001b[0m\n\u001b[0;32m   3153\u001b[0m     \u001b[1;32mtry\u001b[0m\u001b[1;33m:\u001b[0m\u001b[1;33m\u001b[0m\u001b[0m\n\u001b[1;32m-> 3154\u001b[1;33m         \u001b[0mret\u001b[0m \u001b[1;33m=\u001b[0m \u001b[0max\u001b[0m\u001b[1;33m.\u001b[0m\u001b[0mplot\u001b[0m\u001b[1;33m(\u001b[0m\u001b[1;33m*\u001b[0m\u001b[0margs\u001b[0m\u001b[1;33m,\u001b[0m \u001b[1;33m**\u001b[0m\u001b[0mkwargs\u001b[0m\u001b[1;33m)\u001b[0m\u001b[1;33m\u001b[0m\u001b[0m\n\u001b[0m\u001b[0;32m   3155\u001b[0m     \u001b[1;32mfinally\u001b[0m\u001b[1;33m:\u001b[0m\u001b[1;33m\u001b[0m\u001b[0m\n\u001b[0;32m   3156\u001b[0m         \u001b[0max\u001b[0m\u001b[1;33m.\u001b[0m\u001b[0mhold\u001b[0m\u001b[1;33m(\u001b[0m\u001b[0mwashold\u001b[0m\u001b[1;33m)\u001b[0m\u001b[1;33m\u001b[0m\u001b[0m\n",
      "\u001b[1;32m/home/brenna/anaconda2/lib/python2.7/site-packages/matplotlib/__init__.pyc\u001b[0m in \u001b[0;36minner\u001b[1;34m(ax, *args, **kwargs)\u001b[0m\n\u001b[0;32m   1810\u001b[0m                     warnings.warn(msg % (label_namer, func.__name__),\n\u001b[0;32m   1811\u001b[0m                                   RuntimeWarning, stacklevel=2)\n\u001b[1;32m-> 1812\u001b[1;33m             \u001b[1;32mreturn\u001b[0m \u001b[0mfunc\u001b[0m\u001b[1;33m(\u001b[0m\u001b[0max\u001b[0m\u001b[1;33m,\u001b[0m \u001b[1;33m*\u001b[0m\u001b[0margs\u001b[0m\u001b[1;33m,\u001b[0m \u001b[1;33m**\u001b[0m\u001b[0mkwargs\u001b[0m\u001b[1;33m)\u001b[0m\u001b[1;33m\u001b[0m\u001b[0m\n\u001b[0m\u001b[0;32m   1813\u001b[0m         \u001b[0mpre_doc\u001b[0m \u001b[1;33m=\u001b[0m \u001b[0minner\u001b[0m\u001b[1;33m.\u001b[0m\u001b[0m__doc__\u001b[0m\u001b[1;33m\u001b[0m\u001b[0m\n\u001b[0;32m   1814\u001b[0m         \u001b[1;32mif\u001b[0m \u001b[0mpre_doc\u001b[0m \u001b[1;32mis\u001b[0m \u001b[0mNone\u001b[0m\u001b[1;33m:\u001b[0m\u001b[1;33m\u001b[0m\u001b[0m\n",
      "\u001b[1;32m/home/brenna/anaconda2/lib/python2.7/site-packages/matplotlib/axes/_axes.pyc\u001b[0m in \u001b[0;36mplot\u001b[1;34m(self, *args, **kwargs)\u001b[0m\n\u001b[0;32m   1422\u001b[0m             \u001b[0mkwargs\u001b[0m\u001b[1;33m[\u001b[0m\u001b[1;34m'color'\u001b[0m\u001b[1;33m]\u001b[0m \u001b[1;33m=\u001b[0m \u001b[0mc\u001b[0m\u001b[1;33m\u001b[0m\u001b[0m\n\u001b[0;32m   1423\u001b[0m \u001b[1;33m\u001b[0m\u001b[0m\n\u001b[1;32m-> 1424\u001b[1;33m         \u001b[1;32mfor\u001b[0m \u001b[0mline\u001b[0m \u001b[1;32min\u001b[0m \u001b[0mself\u001b[0m\u001b[1;33m.\u001b[0m\u001b[0m_get_lines\u001b[0m\u001b[1;33m(\u001b[0m\u001b[1;33m*\u001b[0m\u001b[0margs\u001b[0m\u001b[1;33m,\u001b[0m \u001b[1;33m**\u001b[0m\u001b[0mkwargs\u001b[0m\u001b[1;33m)\u001b[0m\u001b[1;33m:\u001b[0m\u001b[1;33m\u001b[0m\u001b[0m\n\u001b[0m\u001b[0;32m   1425\u001b[0m             \u001b[0mself\u001b[0m\u001b[1;33m.\u001b[0m\u001b[0madd_line\u001b[0m\u001b[1;33m(\u001b[0m\u001b[0mline\u001b[0m\u001b[1;33m)\u001b[0m\u001b[1;33m\u001b[0m\u001b[0m\n\u001b[0;32m   1426\u001b[0m             \u001b[0mlines\u001b[0m\u001b[1;33m.\u001b[0m\u001b[0mappend\u001b[0m\u001b[1;33m(\u001b[0m\u001b[0mline\u001b[0m\u001b[1;33m)\u001b[0m\u001b[1;33m\u001b[0m\u001b[0m\n",
      "\u001b[1;32m/home/brenna/anaconda2/lib/python2.7/site-packages/matplotlib/axes/_base.pyc\u001b[0m in \u001b[0;36m_grab_next_args\u001b[1;34m(self, *args, **kwargs)\u001b[0m\n\u001b[0;32m    384\u001b[0m                 \u001b[1;32mreturn\u001b[0m\u001b[1;33m\u001b[0m\u001b[0m\n\u001b[0;32m    385\u001b[0m             \u001b[1;32mif\u001b[0m \u001b[0mlen\u001b[0m\u001b[1;33m(\u001b[0m\u001b[0mremaining\u001b[0m\u001b[1;33m)\u001b[0m \u001b[1;33m<=\u001b[0m \u001b[1;36m3\u001b[0m\u001b[1;33m:\u001b[0m\u001b[1;33m\u001b[0m\u001b[0m\n\u001b[1;32m--> 386\u001b[1;33m                 \u001b[1;32mfor\u001b[0m \u001b[0mseg\u001b[0m \u001b[1;32min\u001b[0m \u001b[0mself\u001b[0m\u001b[1;33m.\u001b[0m\u001b[0m_plot_args\u001b[0m\u001b[1;33m(\u001b[0m\u001b[0mremaining\u001b[0m\u001b[1;33m,\u001b[0m \u001b[0mkwargs\u001b[0m\u001b[1;33m)\u001b[0m\u001b[1;33m:\u001b[0m\u001b[1;33m\u001b[0m\u001b[0m\n\u001b[0m\u001b[0;32m    387\u001b[0m                     \u001b[1;32myield\u001b[0m \u001b[0mseg\u001b[0m\u001b[1;33m\u001b[0m\u001b[0m\n\u001b[0;32m    388\u001b[0m                 \u001b[1;32mreturn\u001b[0m\u001b[1;33m\u001b[0m\u001b[0m\n",
      "\u001b[1;32m/home/brenna/anaconda2/lib/python2.7/site-packages/matplotlib/axes/_base.pyc\u001b[0m in \u001b[0;36m_plot_args\u001b[1;34m(self, tup, kwargs)\u001b[0m\n\u001b[0;32m    334\u001b[0m         \u001b[0mret\u001b[0m \u001b[1;33m=\u001b[0m \u001b[1;33m[\u001b[0m\u001b[1;33m]\u001b[0m\u001b[1;33m\u001b[0m\u001b[0m\n\u001b[0;32m    335\u001b[0m         \u001b[1;32mif\u001b[0m \u001b[0mlen\u001b[0m\u001b[1;33m(\u001b[0m\u001b[0mtup\u001b[0m\u001b[1;33m)\u001b[0m \u001b[1;33m>\u001b[0m \u001b[1;36m1\u001b[0m \u001b[1;32mand\u001b[0m \u001b[0mis_string_like\u001b[0m\u001b[1;33m(\u001b[0m\u001b[0mtup\u001b[0m\u001b[1;33m[\u001b[0m\u001b[1;33m-\u001b[0m\u001b[1;36m1\u001b[0m\u001b[1;33m]\u001b[0m\u001b[1;33m)\u001b[0m\u001b[1;33m:\u001b[0m\u001b[1;33m\u001b[0m\u001b[0m\n\u001b[1;32m--> 336\u001b[1;33m             \u001b[0mlinestyle\u001b[0m\u001b[1;33m,\u001b[0m \u001b[0mmarker\u001b[0m\u001b[1;33m,\u001b[0m \u001b[0mcolor\u001b[0m \u001b[1;33m=\u001b[0m \u001b[0m_process_plot_format\u001b[0m\u001b[1;33m(\u001b[0m\u001b[0mtup\u001b[0m\u001b[1;33m[\u001b[0m\u001b[1;33m-\u001b[0m\u001b[1;36m1\u001b[0m\u001b[1;33m]\u001b[0m\u001b[1;33m)\u001b[0m\u001b[1;33m\u001b[0m\u001b[0m\n\u001b[0m\u001b[0;32m    337\u001b[0m             \u001b[0mtup\u001b[0m \u001b[1;33m=\u001b[0m \u001b[0mtup\u001b[0m\u001b[1;33m[\u001b[0m\u001b[1;33m:\u001b[0m\u001b[1;33m-\u001b[0m\u001b[1;36m1\u001b[0m\u001b[1;33m]\u001b[0m\u001b[1;33m\u001b[0m\u001b[0m\n\u001b[0;32m    338\u001b[0m         \u001b[1;32melif\u001b[0m \u001b[0mlen\u001b[0m\u001b[1;33m(\u001b[0m\u001b[0mtup\u001b[0m\u001b[1;33m)\u001b[0m \u001b[1;33m==\u001b[0m \u001b[1;36m3\u001b[0m\u001b[1;33m:\u001b[0m\u001b[1;33m\u001b[0m\u001b[0m\n",
      "\u001b[1;32m/home/brenna/anaconda2/lib/python2.7/site-packages/matplotlib/axes/_base.pyc\u001b[0m in \u001b[0;36m_process_plot_format\u001b[1;34m(fmt)\u001b[0m\n\u001b[0;32m     84\u001b[0m     \u001b[1;31m# handle the multi char special cases and strip them from the\u001b[0m\u001b[1;33m\u001b[0m\u001b[1;33m\u001b[0m\u001b[0m\n\u001b[0;32m     85\u001b[0m     \u001b[1;31m# string\u001b[0m\u001b[1;33m\u001b[0m\u001b[1;33m\u001b[0m\u001b[0m\n\u001b[1;32m---> 86\u001b[1;33m     \u001b[1;32mif\u001b[0m \u001b[0mfmt\u001b[0m\u001b[1;33m.\u001b[0m\u001b[0mfind\u001b[0m\u001b[1;33m(\u001b[0m\u001b[1;34m'--'\u001b[0m\u001b[1;33m)\u001b[0m \u001b[1;33m>=\u001b[0m \u001b[1;36m0\u001b[0m\u001b[1;33m:\u001b[0m\u001b[1;33m\u001b[0m\u001b[0m\n\u001b[0m\u001b[0;32m     87\u001b[0m         \u001b[0mlinestyle\u001b[0m \u001b[1;33m=\u001b[0m \u001b[1;34m'--'\u001b[0m\u001b[1;33m\u001b[0m\u001b[0m\n\u001b[0;32m     88\u001b[0m         \u001b[0mfmt\u001b[0m \u001b[1;33m=\u001b[0m \u001b[0mfmt\u001b[0m\u001b[1;33m.\u001b[0m\u001b[0mreplace\u001b[0m\u001b[1;33m(\u001b[0m\u001b[1;34m'--'\u001b[0m\u001b[1;33m,\u001b[0m \u001b[1;34m''\u001b[0m\u001b[1;33m)\u001b[0m\u001b[1;33m\u001b[0m\u001b[0m\n",
      "\u001b[1;32m/home/brenna/anaconda2/lib/python2.7/site-packages/pandas/core/generic.pyc\u001b[0m in \u001b[0;36m__getattr__\u001b[1;34m(self, name)\u001b[0m\n\u001b[0;32m   2358\u001b[0m                 \u001b[1;32mreturn\u001b[0m \u001b[0mself\u001b[0m\u001b[1;33m[\u001b[0m\u001b[0mname\u001b[0m\u001b[1;33m]\u001b[0m\u001b[1;33m\u001b[0m\u001b[0m\n\u001b[0;32m   2359\u001b[0m             raise AttributeError(\"'%s' object has no attribute '%s'\" %\n\u001b[1;32m-> 2360\u001b[1;33m                                  (type(self).__name__, name))\n\u001b[0m\u001b[0;32m   2361\u001b[0m \u001b[1;33m\u001b[0m\u001b[0m\n\u001b[0;32m   2362\u001b[0m     \u001b[1;32mdef\u001b[0m \u001b[0m__setattr__\u001b[0m\u001b[1;33m(\u001b[0m\u001b[0mself\u001b[0m\u001b[1;33m,\u001b[0m \u001b[0mname\u001b[0m\u001b[1;33m,\u001b[0m \u001b[0mvalue\u001b[0m\u001b[1;33m)\u001b[0m\u001b[1;33m:\u001b[0m\u001b[1;33m\u001b[0m\u001b[0m\n",
      "\u001b[1;31mAttributeError\u001b[0m: 'Series' object has no attribute 'find'"
     ]
    },
    {
     "data": {
      "image/png": "[encoded data removed]",
      "text/plain": [
       "<matplotlib.figure.Figure at 0x7f2e8e2f8390>"
      ]
     },
     "metadata": {},
     "output_type": "display_data"
    }
   ],
   "source": [
    "plt.plot(dataframe1[df1_feature_x.value], dataframe1[df1_feature_y.value])\n",
    "plt.plot(dataframe2[df1_feature_x.value], dataframe2[df1_feature_y.value])\n",
    "plt.xlabel(df1_feature_x.value + ' (Need units)')\n",
    "plt.ylabel(df1_feature_y.value + ' (Need units)')\n",
    "plt.title(dataframe1_name.value + ' vs ' + dataframe2_name.value)\n",
    "plt.show()"
   ]
  },
  {
   "cell_type": "code",
   "execution_count": null,
   "metadata": {
    "collapsed": true
   },
   "outputs": [],
   "source": []
  },
  {
   "cell_type": "markdown",
   "metadata": {},
   "source": [
    "## COMPARE TWO DATASETS DIURNAL"
   ]
  },
  {
   "cell_type": "code",
   "execution_count": null,
   "metadata": {
    "collapsed": true
   },
   "outputs": [],
   "source": [
    "#GENERAL FUNCTION FOR DIURNAL DATA\n",
    "\n",
    "def getmeanfeatureforhour(hourdf, feature):\n",
    "    \"\"\"hourdf: dataframe specific to one hour of data\n",
    "    feature: given header to be explored (temperature, PMx, etc)\n",
    "    returns: dataframe with a new mean feature per hour\"\"\"\n",
    "    \n",
    "    res = hourdf[feature].mean()\n",
    "    return res\n",
    "\n",
    "def featurediurnaldata(df, feature):\n",
    "    \"\"\"breaks down a given dataframe by feature into one dataframe per hour (24) for plotting of a dirunal profile\n",
    "    df: dataframe to be broken down\n",
    "    feature: header to be broken down\"\"\"\n",
    "    #feature for example could be a temperature or pollutant concentration\n",
    "    dfhour0 = df[df['Hour'] == 0]\n",
    "    feat0 = getmeanfeatureforhour(dfhour0, feature)\n",
    "    dfhour1 = df[df['Hour'] == 1]\n",
    "    feat1= getmeanfeatureforhour(dfhour1, feature)\n",
    "    dfhour2 = df[df['Hour'] == 2]\n",
    "    feat2 = getmeanfeatureforhour(dfhour2, feature)\n",
    "    dfhour3 = df[df['Hour'] == 3]\n",
    "    feat3 = getmeanfeatureforhour(dfhour3, feature)\n",
    "    dfhour4 = df[df['Hour'] == 4]\n",
    "    feat4 = getmeanfeatureforhour(dfhour4, feature)\n",
    "    dfhour5 = df[df['Hour'] == 5]\n",
    "    feat5 = getmeanfeatureforhour(dfhour5, feature)\n",
    "    dfhour6 = df[df['Hour'] == 6]\n",
    "    feat6 = getmeanfeatureforhour(dfhour6, feature)\n",
    "    dfhour7 = df[df['Hour'] == 7]\n",
    "    feat7 = getmeanfeatureforhour(dfhour7, feature)\n",
    "    dfhour8 = df[df['Hour'] == 8]\n",
    "    feat8 = getmeanfeatureforhour(dfhour8, feature)\n",
    "    dfhour9 = df[df['Hour'] == 9]\n",
    "    feat9 = getmeanfeatureforhour(dfhour9, feature)\n",
    "    dfhour10 = df[df['Hour'] == 10]\n",
    "    feat10 = getmeanfeatureforhour(dfhour10, feature)\n",
    "    dfhour11 = df[df['Hour'] == 11]\n",
    "    feat11 = getmeanfeatureforhour(dfhour11, feature)\n",
    "    dfhour12 = df[df['Hour'] == 12]\n",
    "    feat12 = getmeanfeatureforhour(dfhour12, feature)\n",
    "    dfhour13 = df[df['Hour'] == 13]\n",
    "    feat13 = getmeanfeatureforhour(dfhour13, feature)\n",
    "    dfhour14 = df[df['Hour'] == 14]\n",
    "    feat14 = getmeanfeatureforhour(dfhour14, feature)\n",
    "    dfhour15 = df[df['Hour'] == 15]\n",
    "    feat15 = getmeanfeatureforhour(dfhour15, feature)\n",
    "    dfhour16 = df[df['Hour'] == 16]\n",
    "    feat16 = getmeanfeatureforhour(dfhour16, feature)\n",
    "    dfhour17 = df[df['Hour'] == 17]\n",
    "    feat17 = getmeanfeatureforhour(dfhour17, feature)\n",
    "    dfhour18 = df[df['Hour'] == 18]\n",
    "    feat18 = getmeanfeatureforhour(dfhour18, feature)\n",
    "    dfhour19 = df[df['Hour'] == 19]\n",
    "    feat19 = getmeanfeatureforhour(dfhour19, feature)\n",
    "    dfhour20 = df[df['Hour'] == 20]\n",
    "    feat20 = getmeanfeatureforhour(dfhour20, feature)\n",
    "    dfhour21 = df[df['Hour'] == 21]\n",
    "    feat21 = getmeanfeatureforhour(dfhour21, feature)\n",
    "    dfhour22 = df[df['Hour'] == 22]\n",
    "    feat22 = getmeanfeatureforhour(dfhour22, feature)\n",
    "    dfhour23 = df[df['Hour'] == 23]\n",
    "    feat23 = getmeanfeatureforhour(dfhour23, feature)\n",
    "\n",
    "    featlist = [feat0,feat1,feat2,feat3,feat4,feat5,feat6,feat7,feat8,feat9,feat10,feat11,feat12,feat13,feat14,feat15,feat16,feat17,feat18,feat19,feat20,feat21,feat22,feat23]\n",
    "    return featlist\n",
    "\n",
    "hour_list = [0, 1, 2, 3, 4, 5, 6, 7, 8, 9, 10, 11, 12, 13, 14, 15, 16, 17, 18, 19, 20, 21, 22, 23]\n"
   ]
  },
  {
   "cell_type": "code",
   "execution_count": null,
   "metadata": {
    "collapsed": true
   },
   "outputs": [],
   "source": []
  },
  {
   "cell_type": "code",
   "execution_count": null,
   "metadata": {
    "collapsed": true
   },
   "outputs": [],
   "source": [
    "df1_columns = [column for column in dataframe1]\n",
    "df_feature_diurnal = widgets.Dropdown(\n",
    "    options= df1_columns,\n",
    "    description='Choose feature:'\n",
    ")\n",
    "display(df_feature_diurnal)"
   ]
  },
  {
   "cell_type": "code",
   "execution_count": null,
   "metadata": {
    "collapsed": false
   },
   "outputs": [],
   "source": [
    "def plotDiurnal(hour_list, dataframe1, dataframe2, df_feature_diurnal, dataframe1_name, dataframe2_name):\n",
    "    while True:\n",
    "         try:\n",
    "            plt.plot(hour_list, featurediurnaldata(dataframe1, df_feature_diurnal.value))\n",
    "            plt.plot(hour_list, featurediurnaldata(dataframe2, df_feature_diurnal.value))\n",
    "            plt.title('Diurnal profile of ' + df_feature_diurnal.value)\n",
    "            plt.legend([dataframe1_name.value, dataframe2_name.value])\n",
    "            plt.ylabel(df_feature_diurnal.value + ' (Needs units)')\n",
    "            plt.xlabel('Hour of day')\n",
    "            plt.show()\n",
    "            break\n",
    "         except TypeError:\n",
    "            print \"Cannont plot diurnal graph. Please try a different feature\"\n",
    "            return\n",
    "\n",
    "plotDiurnal(hour_list, dataframe1, dataframe2, df_feature_diurnal, dataframe1_name, dataframe2_name)\n"
   ]
  },
  {
   "cell_type": "markdown",
   "metadata": {},
   "source": [
    "## Choose date/time range\n",
    "Assuming sorted by date."
   ]
  },
  {
   "cell_type": "code",
   "execution_count": null,
   "metadata": {
    "collapsed": true
   },
   "outputs": [],
   "source": [
    "start_day = widgets.Text(\n",
    "    description='Select start of time range m/dd/yy',\n",
    "    value= '7/11/14',\n",
    ")\n",
    "start_day"
   ]
  },
  {
   "cell_type": "code",
   "execution_count": null,
   "metadata": {
    "collapsed": true
   },
   "outputs": [],
   "source": [
    "start_day = start_day.value"
   ]
  },
  {
   "cell_type": "code",
   "execution_count": null,
   "metadata": {
    "collapsed": true
   },
   "outputs": [],
   "source": [
    "end_day = widgets.Text(\n",
    "    description='Select start of time range m/dd/yy',\n",
    "    value= '8/20/14',\n",
    ")\n",
    "end_day"
   ]
  },
  {
   "cell_type": "code",
   "execution_count": null,
   "metadata": {
    "collapsed": true
   },
   "outputs": [],
   "source": [
    "end_day = end_day.value"
   ]
  },
  {
   "cell_type": "code",
   "execution_count": null,
   "metadata": {
    "collapsed": false
   },
   "outputs": [],
   "source": [
    "def getDateStartIndex(dataframe1, start_day):\n",
    "    for date in dataframe1.Date:\n",
    "        if date[0:6] == start_day:\n",
    "            print  dataframe1['Date'][dataframe1['Date'][0:6] == start_day]\n",
    "            return dataframe1['Date'][dataframe1['Date'][0:6] == start_day]\n",
    "\n",
    "start_date_index = getDateStartIndex(dataframe1, start_day)\n",
    "print start_date_index\n",
    "#df = df[dataframe['date'] ]"
   ]
  },
  {
   "cell_type": "code",
   "execution_count": 312,
   "metadata": {
    "collapsed": true
   },
   "outputs": [],
   "source": [
    "for date in dataframe1.Date:\n",
    "        if date[0:6] == start_day:\n",
    "            df=dataframe1[dataframe1['Date']== start_day]\n",
    "            daycount= daycount"
   ]
  },
  {
   "cell_type": "code",
   "execution_count": 313,
   "metadata": {
    "collapsed": true
   },
   "outputs": [],
   "source": [
    "warm_days_cutoff = warm_days.value"
   ]
  },
  {
   "cell_type": "code",
   "execution_count": 314,
   "metadata": {
    "collapsed": true
   },
   "outputs": [],
   "source": [
    "start_day = widgets.Text(\n",
    "    description='Select start of time range',\n",
    "    value= '14.4',\n",
    ")\n",
    "start_day"
   ]
  },
  {
   "cell_type": "code",
   "execution_count": 315,
   "metadata": {
    "collapsed": true
   },
   "outputs": [],
   "source": [
    "warm_days_cutoff = warm_days.value"
   ]
  },
  {
   "cell_type": "code",
   "execution_count": null,
   "metadata": {
    "collapsed": true
   },
   "outputs": [],
   "source": []
  },
  {
   "cell_type": "markdown",
   "metadata": {
    "collapsed": true
   },
   "source": [
    "## Temperature Brackets\n",
    "Currently assumes Temperature_(degC) column in dataset."
   ]
  },
  {
   "cell_type": "code",
   "execution_count": 316,
   "metadata": {
    "collapsed": false
   },
   "outputs": [],
   "source": [
    "warm_days = widgets.Text(\n",
    "    description='Minimum average temperature for warm days',\n",
    "    value= '14.4',\n",
    ")\n",
    "warm_days"
   ]
  },
  {
   "cell_type": "code",
   "execution_count": 324,
   "metadata": {
    "collapsed": true
   },
   "outputs": [],
   "source": [
    "warm_days_cutoff = float(warm_days.value)"
   ]
  },
  {
   "cell_type": "code",
   "execution_count": 318,
   "metadata": {
    "collapsed": true
   },
   "outputs": [],
   "source": [
    "cold_days = widgets.Text(\n",
    "    description='Minimum average temperature for cold days',\n",
    "    value= '8.7',\n",
    ")\n",
    "cold_days"
   ]
  },
  {
   "cell_type": "code",
   "execution_count": 319,
   "metadata": {
    "collapsed": false
   },
   "outputs": [],
   "source": [
    "cold_days_cutoff = float(cold_days.value)"
   ]
  },
  {
   "cell_type": "code",
   "execution_count": 340,
   "metadata": {
    "collapsed": false
   },
   "outputs": [],
   "source": [
    "dataframe1.dropna\n",
    "dataframe1.dropna()\n",
    "dataframe1=dataframe1[np.isfinite(dataframe1['DailyAverageTemp'])]\n",
    "df1cold = dataframe1[(dataframe1['DailyAverageTemp']) <= cold_days_cutoff]\n",
    "df_dict['df1cold']=df1cold\n",
    "df1mid = dataframe1[dataframe1['DailyAverageTemp'] > cold_days_cutoff]\n",
    "df1mid = df1mid[df1mid['DailyAverageTemp'] < warm_days_cutoff]\n",
    "df_dict['df1mid']=df1mid\n",
    "df1warm = dataframe1[dataframe1['DailyAverageTemp'] >= warm_days_cutoff]\n",
    "df_dict['df1warm']=df1warm\n",
    "df2cold = dataframe2[dataframe2['DailyAverageTemp'] <= cold_days_cutoff]\n",
    "df_dict['df2cold']=df2cold\n",
    "df2mid = dataframe2[dataframe2['DailyAverageTemp'] > cold_days_cutoff]\n",
    "df2mid = df2mid[df2mid['DailyAverageTemp'] < warm_days_cutoff]\n",
    "df_dict['df2mid']=df2mid\n",
    "df2warm = dataframe2[dataframe2['DailyAverageTemp'] >= warm_days_cutoff]\n",
    "df_dict['df2warm']=df2warm"
   ]
  },
  {
   "cell_type": "code",
   "execution_count": 325,
   "metadata": {
    "collapsed": false
   },
   "outputs": [
    {
     "data": {
      "image/png": "[encoded data removed]",
      "text/plain": [
       "<matplotlib.figure.Figure at 0x7f2e8d8b06d0>"
      ]
     },
     "metadata": {},
     "output_type": "display_data"
    }
   ],
   "source": [
    "hourlist = range(0,24)\n",
    "def plotTempBracketDiurnal(hourlist, df1cold, df2cold, df1mid, df2mid, df1warm, df2warm, df1_name, df2_name):\n",
    "    plt.plot(hourlist, featurediurnaldata(df1cold, 'Temperature_(degC)'))\n",
    "    plt.plot(hourlist, featurediurnaldata(df1mid, 'Temperature_(degC)'))\n",
    "    plt.plot(hourlist, featurediurnaldata(df1warm, 'Temperature_(degC)'))\n",
    "    plt.plot(hourlist, featurediurnaldata(df2cold, 'Temperature_(degC)'))\n",
    "    plt.plot(hourlist, featurediurnaldata(df2mid, 'Temperature_(degC)'))\n",
    "    plt.plot(hourlist, featurediurnaldata(df2warm, 'Temperature_(degC)'))         \n",
    "\n",
    "    plt.legend([df1_name + ' Cold', df1_name + ' Mid', df1_name + ' Warm', df2_name + ' Cold', df2_name + ' Mid', df2_name + ' Warm'])\n",
    "    plt.title('Diurnal Outdoor Temp Degrees C')\n",
    "    plt.xlabel('Hour')\n",
    "    plt.ylabel('Degrees Celsius')\n",
    "    plt.show()\n",
    "\n",
    "plotTempBracketDiurnal(hourlist, df1cold, df2cold, df1mid, df2mid, df1warm, df2warm, dataframe1_name.value, dataframe2_name.value)"
   ]
  },
  {
   "cell_type": "code",
   "execution_count": null,
   "metadata": {
    "collapsed": true
   },
   "outputs": [],
   "source": []
  },
  {
   "cell_type": "code",
   "execution_count": null,
   "metadata": {
    "collapsed": true
   },
   "outputs": [],
   "source": []
  },
  {
   "cell_type": "code",
   "execution_count": 329,
   "metadata": {
    "collapsed": false
   },
   "outputs": [
    {
     "name": "stdout",
     "output_type": "stream",
     "text": [
      "                 Date  Wind_Speed_(m/s)  Temperature_(degC)  SO2_(ppb)  \\\n",
      "0        7/2/13 12:00               NaN                 NaN        NaN   \n",
      "1        7/2/13 12:01               NaN                 NaN        NaN   \n",
      "2        7/2/13 12:02               NaN                 NaN        NaN   \n",
      "3        7/2/13 12:03               NaN                 NaN        NaN   \n",
      "4        7/2/13 12:04               NaN                 NaN        NaN   \n",
      "5        7/2/13 12:05               NaN                 NaN        NaN   \n",
      "6        7/2/13 12:06               NaN                 NaN        NaN   \n",
      "7        7/2/13 12:07               NaN                 NaN        NaN   \n",
      "8        7/2/13 12:08               NaN                 NaN        NaN   \n",
      "9        7/2/13 12:09               NaN                 NaN        NaN   \n",
      "10       7/2/13 12:10               NaN                 NaN        NaN   \n",
      "11       7/2/13 12:11               NaN                 NaN        NaN   \n",
      "12       7/2/13 12:12               NaN                 NaN        NaN   \n",
      "13       7/2/13 12:13               NaN                 NaN        NaN   \n",
      "14       7/2/13 12:14               NaN                 NaN        NaN   \n",
      "15       7/2/13 12:15               NaN                 NaN        NaN   \n",
      "16       7/2/13 12:16               NaN                 NaN        NaN   \n",
      "17       7/2/13 12:17               NaN                 NaN        NaN   \n",
      "18       7/2/13 12:18               NaN                 NaN        NaN   \n",
      "19       7/2/13 12:19               NaN                 NaN        NaN   \n",
      "20       7/2/13 12:20               NaN                 NaN        NaN   \n",
      "21       7/2/13 12:21               NaN                 NaN        NaN   \n",
      "22       7/2/13 12:22               NaN                 NaN        NaN   \n",
      "23       7/2/13 12:23               NaN                 NaN        NaN   \n",
      "24       7/2/13 12:24               NaN                 NaN        NaN   \n",
      "25       7/2/13 12:25               NaN                 NaN        NaN   \n",
      "26       7/2/13 12:26               NaN                 NaN        NaN   \n",
      "27       7/2/13 12:27               NaN                 NaN        NaN   \n",
      "28       7/2/13 12:28               NaN                 NaN        NaN   \n",
      "29       7/2/13 12:29               NaN                 NaN        NaN   \n",
      "...               ...               ...                 ...        ...   \n",
      "125445  9/27/13 14:45               NaN                 NaN        NaN   \n",
      "125446  9/27/13 14:46               NaN                 NaN        NaN   \n",
      "125447  9/27/13 14:47               NaN                 NaN        NaN   \n",
      "125448  9/27/13 14:48               NaN                 NaN        NaN   \n",
      "125449  9/27/13 14:49               NaN                 NaN        NaN   \n",
      "125450  9/27/13 14:50               NaN                 NaN        NaN   \n",
      "125451  9/27/13 14:51               NaN                 NaN        NaN   \n",
      "125452  9/27/13 14:52               NaN                 NaN        NaN   \n",
      "125453  9/27/13 14:53               NaN                 NaN        NaN   \n",
      "125454  9/27/13 14:54               NaN                 NaN        NaN   \n",
      "125455  9/27/13 14:55               NaN                 NaN        NaN   \n",
      "125456  9/27/13 14:56               NaN                 NaN        NaN   \n",
      "125457  9/27/13 14:57               NaN                 NaN        NaN   \n",
      "125458  9/27/13 14:58               NaN                 NaN        NaN   \n",
      "125459  9/27/13 14:59               NaN                 NaN        NaN   \n",
      "125460  9/27/13 15:00               NaN                 NaN        NaN   \n",
      "125461  9/27/13 15:01               NaN                 NaN        NaN   \n",
      "125462  9/27/13 15:02               NaN                 NaN        NaN   \n",
      "125463  9/27/13 15:03               NaN                 NaN        NaN   \n",
      "125464  9/27/13 15:04               NaN                 NaN        NaN   \n",
      "125465  9/27/13 15:05               NaN                 NaN        NaN   \n",
      "125466  9/27/13 15:06               NaN                 NaN        NaN   \n",
      "125467  9/27/13 15:07               NaN                 NaN        NaN   \n",
      "125468  9/27/13 15:08               NaN                 NaN        NaN   \n",
      "125469  9/27/13 15:09               NaN                 NaN        NaN   \n",
      "125470  9/27/13 15:10               NaN                 NaN        NaN   \n",
      "125471  9/27/13 15:11               NaN                 NaN        NaN   \n",
      "125472  9/27/13 15:12               NaN                 NaN        NaN   \n",
      "125473  9/27/13 15:13               NaN                 NaN        NaN   \n",
      "125474  9/27/13 15:14               NaN                 NaN        NaN   \n",
      "\n",
      "        NO_(ppb)  NO2_(ppb)  PM10_(ug/m3)  PM2.5_(ug/m3)  CO_(ppm)  H01-K-E  \\\n",
      "0            NaN        NaN           NaN            NaN       NaN      NaN   \n",
      "1            NaN        NaN           NaN            NaN       NaN      NaN   \n",
      "2            NaN        NaN           NaN            NaN       NaN      NaN   \n",
      "3            NaN        NaN           NaN            NaN       NaN      NaN   \n",
      "4            NaN        NaN           NaN            NaN       NaN      NaN   \n",
      "5            NaN        NaN           NaN            NaN       NaN      NaN   \n",
      "6            NaN        NaN           NaN            NaN       NaN      NaN   \n",
      "7            NaN        NaN           NaN            NaN       NaN      NaN   \n",
      "8            NaN        NaN           NaN            NaN       NaN      NaN   \n",
      "9            NaN        NaN           NaN            NaN       NaN      NaN   \n",
      "10           NaN        NaN           NaN            NaN       NaN      NaN   \n",
      "11           NaN        NaN           NaN            NaN       NaN      NaN   \n",
      "12           NaN        NaN           NaN            NaN       NaN      NaN   \n",
      "13           NaN        NaN           NaN            NaN       NaN      NaN   \n",
      "14           NaN        NaN           NaN            NaN       NaN      NaN   \n",
      "15           NaN        NaN           NaN            NaN       NaN      NaN   \n",
      "16           NaN        NaN           NaN            NaN       NaN      NaN   \n",
      "17           NaN        NaN           NaN            NaN       NaN      NaN   \n",
      "18           NaN        NaN           NaN            NaN       NaN      NaN   \n",
      "19           NaN        NaN           NaN            NaN       NaN      NaN   \n",
      "20           NaN        NaN           NaN            NaN       NaN      NaN   \n",
      "21           NaN        NaN           NaN            NaN       NaN      NaN   \n",
      "22           NaN        NaN           NaN            NaN       NaN      NaN   \n",
      "23           NaN        NaN           NaN            NaN       NaN      NaN   \n",
      "24           NaN        NaN           NaN            NaN       NaN      NaN   \n",
      "25           NaN        NaN           NaN            NaN       NaN      NaN   \n",
      "26           NaN        NaN           NaN            NaN       NaN      NaN   \n",
      "27           NaN        NaN           NaN            NaN       NaN      NaN   \n",
      "28           NaN        NaN           NaN            NaN       NaN      NaN   \n",
      "29           NaN        NaN           NaN            NaN       NaN      NaN   \n",
      "...          ...        ...           ...            ...       ...      ...   \n",
      "125445       NaN        NaN           NaN            NaN       NaN      NaN   \n",
      "125446       NaN        NaN           NaN            NaN       NaN      NaN   \n",
      "125447       NaN        NaN           NaN            NaN       NaN      NaN   \n",
      "125448       NaN        NaN           NaN            NaN       NaN      NaN   \n",
      "125449       NaN        NaN           NaN            NaN       NaN      NaN   \n",
      "125450       NaN        NaN           NaN            NaN       NaN      NaN   \n",
      "125451       NaN        NaN           NaN            NaN       NaN      NaN   \n",
      "125452       NaN        NaN           NaN            NaN       NaN      NaN   \n",
      "125453       NaN        NaN           NaN            NaN       NaN      NaN   \n",
      "125454       NaN        NaN           NaN            NaN       NaN      NaN   \n",
      "125455       NaN        NaN           NaN            NaN       NaN      NaN   \n",
      "125456       NaN        NaN           NaN            NaN       NaN      NaN   \n",
      "125457       NaN        NaN           NaN            NaN       NaN      NaN   \n",
      "125458       NaN        NaN           NaN            NaN       NaN      NaN   \n",
      "125459       NaN        NaN           NaN            NaN       NaN      NaN   \n",
      "125460       NaN        NaN           NaN            NaN       NaN      NaN   \n",
      "125461       NaN        NaN           NaN            NaN       NaN      NaN   \n",
      "125462       NaN        NaN           NaN            NaN       NaN      NaN   \n",
      "125463       NaN        NaN           NaN            NaN       NaN      NaN   \n",
      "125464       NaN        NaN           NaN            NaN       NaN      NaN   \n",
      "125465       NaN        NaN           NaN            NaN       NaN      NaN   \n",
      "125466       NaN        NaN           NaN            NaN       NaN      NaN   \n",
      "125467       NaN        NaN           NaN            NaN       NaN      NaN   \n",
      "125468       NaN        NaN           NaN            NaN       NaN      NaN   \n",
      "125469       NaN        NaN           NaN            NaN       NaN      NaN   \n",
      "125470       NaN        NaN           NaN            NaN       NaN      NaN   \n",
      "125471       NaN        NaN           NaN            NaN       NaN      NaN   \n",
      "125472       NaN        NaN           NaN            NaN       NaN      NaN   \n",
      "125473       NaN        NaN           NaN            NaN       NaN      NaN   \n",
      "125474       NaN        NaN           NaN            NaN       NaN      NaN   \n",
      "\n",
      "            ...       Hour  Day  Month  Year  DayCount  PM4_(ug/m3)  \\\n",
      "0           ...         12    2      7  2013         2          NaN   \n",
      "1           ...         12    2      7  2013         2          NaN   \n",
      "2           ...         12    2      7  2013         2          NaN   \n",
      "3           ...         12    2      7  2013         2          NaN   \n",
      "4           ...         12    2      7  2013         2          NaN   \n",
      "5           ...         12    2      7  2013         2          NaN   \n",
      "6           ...         12    2      7  2013         2          NaN   \n",
      "7           ...         12    2      7  2013         2          NaN   \n",
      "8           ...         12    2      7  2013         2          NaN   \n",
      "9           ...         12    2      7  2013         2          NaN   \n",
      "10          ...         12    2      7  2013         2          NaN   \n",
      "11          ...         12    2      7  2013         2          NaN   \n",
      "12          ...         12    2      7  2013         2          NaN   \n",
      "13          ...         12    2      7  2013         2          NaN   \n",
      "14          ...         12    2      7  2013         2          NaN   \n",
      "15          ...         12    2      7  2013         2          NaN   \n",
      "16          ...         12    2      7  2013         2          NaN   \n",
      "17          ...         12    2      7  2013         2          NaN   \n",
      "18          ...         12    2      7  2013         2          NaN   \n",
      "19          ...         12    2      7  2013         2          NaN   \n",
      "20          ...         12    2      7  2013         2          NaN   \n",
      "21          ...         12    2      7  2013         2          NaN   \n",
      "22          ...         12    2      7  2013         2          NaN   \n",
      "23          ...         12    2      7  2013         2          NaN   \n",
      "24          ...         12    2      7  2013         2          NaN   \n",
      "25          ...         12    2      7  2013         2          NaN   \n",
      "26          ...         12    2      7  2013         2          NaN   \n",
      "27          ...         12    2      7  2013         2          NaN   \n",
      "28          ...         12    2      7  2013         2          NaN   \n",
      "29          ...         12    2      7  2013         2          NaN   \n",
      "...         ...        ...  ...    ...   ...       ...          ...   \n",
      "125445      ...         14   27      9  2013        88          NaN   \n",
      "125446      ...         14   27      9  2013        88          NaN   \n",
      "125447      ...         14   27      9  2013        88          NaN   \n",
      "125448      ...         14   27      9  2013        88          NaN   \n",
      "125449      ...         14   27      9  2013        88          NaN   \n",
      "125450      ...         14   27      9  2013        88          NaN   \n",
      "125451      ...         14   27      9  2013        88          NaN   \n",
      "125452      ...         14   27      9  2013        88          NaN   \n",
      "125453      ...         14   27      9  2013        88          NaN   \n",
      "125454      ...         14   27      9  2013        88          NaN   \n",
      "125455      ...         14   27      9  2013        88          NaN   \n",
      "125456      ...         14   27      9  2013        88          NaN   \n",
      "125457      ...         14   27      9  2013        88          NaN   \n",
      "125458      ...         14   27      9  2013        88          NaN   \n",
      "125459      ...         14   27      9  2013        88          NaN   \n",
      "125460      ...         15   27      9  2013        88          NaN   \n",
      "125461      ...         15   27      9  2013        88          NaN   \n",
      "125462      ...         15   27      9  2013        88          NaN   \n",
      "125463      ...         15   27      9  2013        88          NaN   \n",
      "125464      ...         15   27      9  2013        88          NaN   \n",
      "125465      ...         15   27      9  2013        88          NaN   \n",
      "125466      ...         15   27      9  2013        88          NaN   \n",
      "125467      ...         15   27      9  2013        88          NaN   \n",
      "125468      ...         15   27      9  2013        88          NaN   \n",
      "125469      ...         15   27      9  2013        88          NaN   \n",
      "125470      ...         15   27      9  2013        88          NaN   \n",
      "125471      ...         15   27      9  2013        88          NaN   \n",
      "125472      ...         15   27      9  2013        88          NaN   \n",
      "125473      ...         15   27      9  2013        88          NaN   \n",
      "125474      ...         15   27      9  2013        88          NaN   \n",
      "\n",
      "        DailyAverageTemp  DailyAvgDusttraks  DailyAvgPM4  DailyAvgWind  \n",
      "0                    NaN                NaN          NaN           NaN  \n",
      "1                    NaN                NaN          NaN           NaN  \n",
      "2                    NaN                NaN          NaN           NaN  \n",
      "3                    NaN                NaN          NaN           NaN  \n",
      "4                    NaN                NaN          NaN           NaN  \n",
      "5                    NaN                NaN          NaN           NaN  \n",
      "6                    NaN                NaN          NaN           NaN  \n",
      "7                    NaN                NaN          NaN           NaN  \n",
      "8                    NaN                NaN          NaN           NaN  \n",
      "9                    NaN                NaN          NaN           NaN  \n",
      "10                   NaN                NaN          NaN           NaN  \n",
      "11                   NaN                NaN          NaN           NaN  \n",
      "12                   NaN                NaN          NaN           NaN  \n",
      "13                   NaN                NaN          NaN           NaN  \n",
      "14                   NaN                NaN          NaN           NaN  \n",
      "15                   NaN                NaN          NaN           NaN  \n",
      "16                   NaN                NaN          NaN           NaN  \n",
      "17                   NaN                NaN          NaN           NaN  \n",
      "18                   NaN                NaN          NaN           NaN  \n",
      "19                   NaN                NaN          NaN           NaN  \n",
      "20                   NaN                NaN          NaN           NaN  \n",
      "21                   NaN                NaN          NaN           NaN  \n",
      "22                   NaN                NaN          NaN           NaN  \n",
      "23                   NaN                NaN          NaN           NaN  \n",
      "24                   NaN                NaN          NaN           NaN  \n",
      "25                   NaN                NaN          NaN           NaN  \n",
      "26                   NaN                NaN          NaN           NaN  \n",
      "27                   NaN                NaN          NaN           NaN  \n",
      "28                   NaN                NaN          NaN           NaN  \n",
      "29                   NaN                NaN          NaN           NaN  \n",
      "...                  ...                ...          ...           ...  \n",
      "125445               NaN           0.010691     10.69122           NaN  \n",
      "125446               NaN           0.010691     10.69122           NaN  \n",
      "125447               NaN           0.010691     10.69122           NaN  \n",
      "125448               NaN           0.010691     10.69122           NaN  \n",
      "125449               NaN           0.010691     10.69122           NaN  \n",
      "125450               NaN           0.010691     10.69122           NaN  \n",
      "125451               NaN           0.010691     10.69122           NaN  \n",
      "125452               NaN           0.010691     10.69122           NaN  \n",
      "125453               NaN           0.010691     10.69122           NaN  \n",
      "125454               NaN           0.010691     10.69122           NaN  \n",
      "125455               NaN           0.010691     10.69122           NaN  \n",
      "125456               NaN           0.010691     10.69122           NaN  \n",
      "125457               NaN           0.010691     10.69122           NaN  \n",
      "125458               NaN           0.010691     10.69122           NaN  \n",
      "125459               NaN           0.010691     10.69122           NaN  \n",
      "125460               NaN           0.010691     10.69122           NaN  \n",
      "125461               NaN           0.010691     10.69122           NaN  \n",
      "125462               NaN           0.010691     10.69122           NaN  \n",
      "125463               NaN           0.010691     10.69122           NaN  \n",
      "125464               NaN           0.010691     10.69122           NaN  \n",
      "125465               NaN           0.010691     10.69122           NaN  \n",
      "125466               NaN           0.010691     10.69122           NaN  \n",
      "125467               NaN           0.010691     10.69122           NaN  \n",
      "125468               NaN           0.010691     10.69122           NaN  \n",
      "125469               NaN           0.010691     10.69122           NaN  \n",
      "125470               NaN           0.010691     10.69122           NaN  \n",
      "125471               NaN           0.010691     10.69122           NaN  \n",
      "125472               NaN           0.010691     10.69122           NaN  \n",
      "125473               NaN           0.010691     10.69122           NaN  \n",
      "125474               NaN           0.010691     10.69122           NaN  \n",
      "\n",
      "[125475 rows x 28 columns]\n"
     ]
    }
   ],
   "source": []
  },
  {
   "cell_type": "code",
   "execution_count": 343,
   "metadata": {
    "collapsed": false
   },
   "outputs": [],
   "source": [
    "df_list = df_dict.keys()\n",
    "df_to_export = widgets.Dropdown(\n",
    "    options= df_list,\n",
    "    description='Choose a dataframe',\n",
    ")\n",
    "display(df_to_export)"
   ]
  },
  {
   "cell_type": "code",
   "execution_count": 344,
   "metadata": {
    "collapsed": true
   },
   "outputs": [],
   "source": [
    "csv_to_export_name = widgets.Text(\n",
    "    description='Filename of Exported CSV:',\n",
    "    value= 'Kwadela2014-winter.csv',\n",
    ")\n",
    "csv_to_export_name"
   ]
  },
  {
   "cell_type": "code",
   "execution_count": 348,
   "metadata": {
    "collapsed": false
   },
   "outputs": [],
   "source": [
    "df_dict[df_to_export.value].to_csv(csv_to_export_name.value)"
   ]
  },
  {
   "cell_type": "code",
   "execution_count": null,
   "metadata": {
    "collapsed": true
   },
   "outputs": [],
   "source": []
  }
 ],
 "metadata": {
  "kernelspec": {
   "display_name": "Python 2",
   "language": "python",
   "name": "python2"
  },
  "language_info": {
   "codemirror_mode": {
    "name": "ipython",
    "version": 2
   },
   "file_extension": ".py",
   "mimetype": "text/x-python",
   "name": "python",
   "nbconvert_exporter": "python",
   "pygments_lexer": "ipython2",
   "version": "2.7.11"
  }
 },
 "nbformat": 4,
 "nbformat_minor": 0
}
